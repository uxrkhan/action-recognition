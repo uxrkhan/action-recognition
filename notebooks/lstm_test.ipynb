{
  "nbformat": 4,
  "nbformat_minor": 0,
  "metadata": {
    "colab": {
      "name": "lstm_test.ipynb",
      "provenance": [],
      "collapsed_sections": [],
      "mount_file_id": "1hOLW2qY_PjriJxxKHIhsWeS5AYtYOpWi",
      "authorship_tag": "ABX9TyMbo03Ius0+GnRYzuOZf98f",
      "include_colab_link": true
    },
    "kernelspec": {
      "name": "python3",
      "display_name": "Python 3"
    },
    "accelerator": "GPU",
    "widgets": {
      "application/vnd.jupyter.widget-state+json": {
        "1b7dd55d112c4134a2b47f71b53bd4e6": {
          "model_module": "@jupyter-widgets/controls",
          "model_name": "HBoxModel",
          "state": {
            "_view_name": "HBoxView",
            "_dom_classes": [],
            "_model_name": "HBoxModel",
            "_view_module": "@jupyter-widgets/controls",
            "_model_module_version": "1.5.0",
            "_view_count": null,
            "_view_module_version": "1.5.0",
            "box_style": "",
            "layout": "IPY_MODEL_19a96bfa0c40433daea558410d341043",
            "_model_module": "@jupyter-widgets/controls",
            "children": [
              "IPY_MODEL_330b8a853cb5433184b7ff143a643f55",
              "IPY_MODEL_0b1a42e53a794a77af6b1c11449bd074"
            ]
          }
        },
        "19a96bfa0c40433daea558410d341043": {
          "model_module": "@jupyter-widgets/base",
          "model_name": "LayoutModel",
          "state": {
            "_view_name": "LayoutView",
            "grid_template_rows": null,
            "right": null,
            "justify_content": null,
            "_view_module": "@jupyter-widgets/base",
            "overflow": null,
            "_model_module_version": "1.2.0",
            "_view_count": null,
            "flex_flow": null,
            "width": null,
            "min_width": null,
            "border": null,
            "align_items": null,
            "bottom": null,
            "_model_module": "@jupyter-widgets/base",
            "top": null,
            "grid_column": null,
            "overflow_y": null,
            "overflow_x": null,
            "grid_auto_flow": null,
            "grid_area": null,
            "grid_template_columns": null,
            "flex": null,
            "_model_name": "LayoutModel",
            "justify_items": null,
            "grid_row": null,
            "max_height": null,
            "align_content": null,
            "visibility": null,
            "align_self": null,
            "height": null,
            "min_height": null,
            "padding": null,
            "grid_auto_rows": null,
            "grid_gap": null,
            "max_width": null,
            "order": null,
            "_view_module_version": "1.2.0",
            "grid_template_areas": null,
            "object_position": null,
            "object_fit": null,
            "grid_auto_columns": null,
            "margin": null,
            "display": null,
            "left": null
          }
        },
        "330b8a853cb5433184b7ff143a643f55": {
          "model_module": "@jupyter-widgets/controls",
          "model_name": "FloatProgressModel",
          "state": {
            "_view_name": "ProgressView",
            "style": "IPY_MODEL_175da91f4df54b078bf9c22b4c81fc46",
            "_dom_classes": [],
            "description": "100%",
            "_model_name": "FloatProgressModel",
            "bar_style": "success",
            "max": 8573,
            "_view_module": "@jupyter-widgets/controls",
            "_model_module_version": "1.5.0",
            "value": 8573,
            "_view_count": null,
            "_view_module_version": "1.5.0",
            "orientation": "horizontal",
            "min": 0,
            "description_tooltip": null,
            "_model_module": "@jupyter-widgets/controls",
            "layout": "IPY_MODEL_aa190e3276ae4ebe8b122375b25e25a6"
          }
        },
        "0b1a42e53a794a77af6b1c11449bd074": {
          "model_module": "@jupyter-widgets/controls",
          "model_name": "HTMLModel",
          "state": {
            "_view_name": "HTMLView",
            "style": "IPY_MODEL_05e8f8c4495c4fa99d1c429ac7776e31",
            "_dom_classes": [],
            "description": "",
            "_model_name": "HTMLModel",
            "placeholder": "​",
            "_view_module": "@jupyter-widgets/controls",
            "_model_module_version": "1.5.0",
            "value": " 8573/8573 [02:09&lt;00:00, 66.39it/s]",
            "_view_count": null,
            "_view_module_version": "1.5.0",
            "description_tooltip": null,
            "_model_module": "@jupyter-widgets/controls",
            "layout": "IPY_MODEL_63999119d84a4fc88f7c1e5fb24c1ed2"
          }
        },
        "175da91f4df54b078bf9c22b4c81fc46": {
          "model_module": "@jupyter-widgets/controls",
          "model_name": "ProgressStyleModel",
          "state": {
            "_view_name": "StyleView",
            "_model_name": "ProgressStyleModel",
            "description_width": "initial",
            "_view_module": "@jupyter-widgets/base",
            "_model_module_version": "1.5.0",
            "_view_count": null,
            "_view_module_version": "1.2.0",
            "bar_color": null,
            "_model_module": "@jupyter-widgets/controls"
          }
        },
        "aa190e3276ae4ebe8b122375b25e25a6": {
          "model_module": "@jupyter-widgets/base",
          "model_name": "LayoutModel",
          "state": {
            "_view_name": "LayoutView",
            "grid_template_rows": null,
            "right": null,
            "justify_content": null,
            "_view_module": "@jupyter-widgets/base",
            "overflow": null,
            "_model_module_version": "1.2.0",
            "_view_count": null,
            "flex_flow": null,
            "width": null,
            "min_width": null,
            "border": null,
            "align_items": null,
            "bottom": null,
            "_model_module": "@jupyter-widgets/base",
            "top": null,
            "grid_column": null,
            "overflow_y": null,
            "overflow_x": null,
            "grid_auto_flow": null,
            "grid_area": null,
            "grid_template_columns": null,
            "flex": null,
            "_model_name": "LayoutModel",
            "justify_items": null,
            "grid_row": null,
            "max_height": null,
            "align_content": null,
            "visibility": null,
            "align_self": null,
            "height": null,
            "min_height": null,
            "padding": null,
            "grid_auto_rows": null,
            "grid_gap": null,
            "max_width": null,
            "order": null,
            "_view_module_version": "1.2.0",
            "grid_template_areas": null,
            "object_position": null,
            "object_fit": null,
            "grid_auto_columns": null,
            "margin": null,
            "display": null,
            "left": null
          }
        },
        "05e8f8c4495c4fa99d1c429ac7776e31": {
          "model_module": "@jupyter-widgets/controls",
          "model_name": "DescriptionStyleModel",
          "state": {
            "_view_name": "StyleView",
            "_model_name": "DescriptionStyleModel",
            "description_width": "",
            "_view_module": "@jupyter-widgets/base",
            "_model_module_version": "1.5.0",
            "_view_count": null,
            "_view_module_version": "1.2.0",
            "_model_module": "@jupyter-widgets/controls"
          }
        },
        "63999119d84a4fc88f7c1e5fb24c1ed2": {
          "model_module": "@jupyter-widgets/base",
          "model_name": "LayoutModel",
          "state": {
            "_view_name": "LayoutView",
            "grid_template_rows": null,
            "right": null,
            "justify_content": null,
            "_view_module": "@jupyter-widgets/base",
            "overflow": null,
            "_model_module_version": "1.2.0",
            "_view_count": null,
            "flex_flow": null,
            "width": null,
            "min_width": null,
            "border": null,
            "align_items": null,
            "bottom": null,
            "_model_module": "@jupyter-widgets/base",
            "top": null,
            "grid_column": null,
            "overflow_y": null,
            "overflow_x": null,
            "grid_auto_flow": null,
            "grid_area": null,
            "grid_template_columns": null,
            "flex": null,
            "_model_name": "LayoutModel",
            "justify_items": null,
            "grid_row": null,
            "max_height": null,
            "align_content": null,
            "visibility": null,
            "align_self": null,
            "height": null,
            "min_height": null,
            "padding": null,
            "grid_auto_rows": null,
            "grid_gap": null,
            "max_width": null,
            "order": null,
            "_view_module_version": "1.2.0",
            "grid_template_areas": null,
            "object_position": null,
            "object_fit": null,
            "grid_auto_columns": null,
            "margin": null,
            "display": null,
            "left": null
          }
        },
        "b47d2c93588145f195aa048e5d346eab": {
          "model_module": "@jupyter-widgets/controls",
          "model_name": "HBoxModel",
          "state": {
            "_view_name": "HBoxView",
            "_dom_classes": [],
            "_model_name": "HBoxModel",
            "_view_module": "@jupyter-widgets/controls",
            "_model_module_version": "1.5.0",
            "_view_count": null,
            "_view_module_version": "1.5.0",
            "box_style": "",
            "layout": "IPY_MODEL_410fd40fb1234f499cfb157791895bdc",
            "_model_module": "@jupyter-widgets/controls",
            "children": [
              "IPY_MODEL_e2c478bcbf454ab0919c4a3df8cd0603",
              "IPY_MODEL_26ab2eb797cf456dadf8218550420755"
            ]
          }
        },
        "410fd40fb1234f499cfb157791895bdc": {
          "model_module": "@jupyter-widgets/base",
          "model_name": "LayoutModel",
          "state": {
            "_view_name": "LayoutView",
            "grid_template_rows": null,
            "right": null,
            "justify_content": null,
            "_view_module": "@jupyter-widgets/base",
            "overflow": null,
            "_model_module_version": "1.2.0",
            "_view_count": null,
            "flex_flow": null,
            "width": null,
            "min_width": null,
            "border": null,
            "align_items": null,
            "bottom": null,
            "_model_module": "@jupyter-widgets/base",
            "top": null,
            "grid_column": null,
            "overflow_y": null,
            "overflow_x": null,
            "grid_auto_flow": null,
            "grid_area": null,
            "grid_template_columns": null,
            "flex": null,
            "_model_name": "LayoutModel",
            "justify_items": null,
            "grid_row": null,
            "max_height": null,
            "align_content": null,
            "visibility": null,
            "align_self": null,
            "height": null,
            "min_height": null,
            "padding": null,
            "grid_auto_rows": null,
            "grid_gap": null,
            "max_width": null,
            "order": null,
            "_view_module_version": "1.2.0",
            "grid_template_areas": null,
            "object_position": null,
            "object_fit": null,
            "grid_auto_columns": null,
            "margin": null,
            "display": null,
            "left": null
          }
        },
        "e2c478bcbf454ab0919c4a3df8cd0603": {
          "model_module": "@jupyter-widgets/controls",
          "model_name": "FloatProgressModel",
          "state": {
            "_view_name": "ProgressView",
            "style": "IPY_MODEL_32942cd1b17b409b82c64970f0422a7e",
            "_dom_classes": [],
            "description": "100%",
            "_model_name": "FloatProgressModel",
            "bar_style": "success",
            "max": 3385,
            "_view_module": "@jupyter-widgets/controls",
            "_model_module_version": "1.5.0",
            "value": 3385,
            "_view_count": null,
            "_view_module_version": "1.5.0",
            "orientation": "horizontal",
            "min": 0,
            "description_tooltip": null,
            "_model_module": "@jupyter-widgets/controls",
            "layout": "IPY_MODEL_8fc6e482143b4c869e6368fd76b6a126"
          }
        },
        "26ab2eb797cf456dadf8218550420755": {
          "model_module": "@jupyter-widgets/controls",
          "model_name": "HTMLModel",
          "state": {
            "_view_name": "HTMLView",
            "style": "IPY_MODEL_28615a9ae72a43248ff1dae7f225f432",
            "_dom_classes": [],
            "description": "",
            "_model_name": "HTMLModel",
            "placeholder": "​",
            "_view_module": "@jupyter-widgets/controls",
            "_model_module_version": "1.5.0",
            "value": " 3385/3385 [00:32&lt;00:00, 103.45it/s]",
            "_view_count": null,
            "_view_module_version": "1.5.0",
            "description_tooltip": null,
            "_model_module": "@jupyter-widgets/controls",
            "layout": "IPY_MODEL_7704007ecba44eb4b3a68a963eb346d8"
          }
        },
        "32942cd1b17b409b82c64970f0422a7e": {
          "model_module": "@jupyter-widgets/controls",
          "model_name": "ProgressStyleModel",
          "state": {
            "_view_name": "StyleView",
            "_model_name": "ProgressStyleModel",
            "description_width": "initial",
            "_view_module": "@jupyter-widgets/base",
            "_model_module_version": "1.5.0",
            "_view_count": null,
            "_view_module_version": "1.2.0",
            "bar_color": null,
            "_model_module": "@jupyter-widgets/controls"
          }
        },
        "8fc6e482143b4c869e6368fd76b6a126": {
          "model_module": "@jupyter-widgets/base",
          "model_name": "LayoutModel",
          "state": {
            "_view_name": "LayoutView",
            "grid_template_rows": null,
            "right": null,
            "justify_content": null,
            "_view_module": "@jupyter-widgets/base",
            "overflow": null,
            "_model_module_version": "1.2.0",
            "_view_count": null,
            "flex_flow": null,
            "width": null,
            "min_width": null,
            "border": null,
            "align_items": null,
            "bottom": null,
            "_model_module": "@jupyter-widgets/base",
            "top": null,
            "grid_column": null,
            "overflow_y": null,
            "overflow_x": null,
            "grid_auto_flow": null,
            "grid_area": null,
            "grid_template_columns": null,
            "flex": null,
            "_model_name": "LayoutModel",
            "justify_items": null,
            "grid_row": null,
            "max_height": null,
            "align_content": null,
            "visibility": null,
            "align_self": null,
            "height": null,
            "min_height": null,
            "padding": null,
            "grid_auto_rows": null,
            "grid_gap": null,
            "max_width": null,
            "order": null,
            "_view_module_version": "1.2.0",
            "grid_template_areas": null,
            "object_position": null,
            "object_fit": null,
            "grid_auto_columns": null,
            "margin": null,
            "display": null,
            "left": null
          }
        },
        "28615a9ae72a43248ff1dae7f225f432": {
          "model_module": "@jupyter-widgets/controls",
          "model_name": "DescriptionStyleModel",
          "state": {
            "_view_name": "StyleView",
            "_model_name": "DescriptionStyleModel",
            "description_width": "",
            "_view_module": "@jupyter-widgets/base",
            "_model_module_version": "1.5.0",
            "_view_count": null,
            "_view_module_version": "1.2.0",
            "_model_module": "@jupyter-widgets/controls"
          }
        },
        "7704007ecba44eb4b3a68a963eb346d8": {
          "model_module": "@jupyter-widgets/base",
          "model_name": "LayoutModel",
          "state": {
            "_view_name": "LayoutView",
            "grid_template_rows": null,
            "right": null,
            "justify_content": null,
            "_view_module": "@jupyter-widgets/base",
            "overflow": null,
            "_model_module_version": "1.2.0",
            "_view_count": null,
            "flex_flow": null,
            "width": null,
            "min_width": null,
            "border": null,
            "align_items": null,
            "bottom": null,
            "_model_module": "@jupyter-widgets/base",
            "top": null,
            "grid_column": null,
            "overflow_y": null,
            "overflow_x": null,
            "grid_auto_flow": null,
            "grid_area": null,
            "grid_template_columns": null,
            "flex": null,
            "_model_name": "LayoutModel",
            "justify_items": null,
            "grid_row": null,
            "max_height": null,
            "align_content": null,
            "visibility": null,
            "align_self": null,
            "height": null,
            "min_height": null,
            "padding": null,
            "grid_auto_rows": null,
            "grid_gap": null,
            "max_width": null,
            "order": null,
            "_view_module_version": "1.2.0",
            "grid_template_areas": null,
            "object_position": null,
            "object_fit": null,
            "grid_auto_columns": null,
            "margin": null,
            "display": null,
            "left": null
          }
        },
        "4c49b37abcfa4db0aa5e603a42fc381a": {
          "model_module": "@jupyter-widgets/controls",
          "model_name": "HBoxModel",
          "state": {
            "_view_name": "HBoxView",
            "_dom_classes": [],
            "_model_name": "HBoxModel",
            "_view_module": "@jupyter-widgets/controls",
            "_model_module_version": "1.5.0",
            "_view_count": null,
            "_view_module_version": "1.5.0",
            "box_style": "",
            "layout": "IPY_MODEL_23a1bf69c9034746a368ca145f9338be",
            "_model_module": "@jupyter-widgets/controls",
            "children": [
              "IPY_MODEL_17e92d53b82a4d0cb494686324b9ec83",
              "IPY_MODEL_bdaa231e1fb74e0f906aa3d8bcd4cfca"
            ]
          }
        },
        "23a1bf69c9034746a368ca145f9338be": {
          "model_module": "@jupyter-widgets/base",
          "model_name": "LayoutModel",
          "state": {
            "_view_name": "LayoutView",
            "grid_template_rows": null,
            "right": null,
            "justify_content": null,
            "_view_module": "@jupyter-widgets/base",
            "overflow": null,
            "_model_module_version": "1.2.0",
            "_view_count": null,
            "flex_flow": null,
            "width": null,
            "min_width": null,
            "border": null,
            "align_items": null,
            "bottom": null,
            "_model_module": "@jupyter-widgets/base",
            "top": null,
            "grid_column": null,
            "overflow_y": null,
            "overflow_x": null,
            "grid_auto_flow": null,
            "grid_area": null,
            "grid_template_columns": null,
            "flex": null,
            "_model_name": "LayoutModel",
            "justify_items": null,
            "grid_row": null,
            "max_height": null,
            "align_content": null,
            "visibility": null,
            "align_self": null,
            "height": null,
            "min_height": null,
            "padding": null,
            "grid_auto_rows": null,
            "grid_gap": null,
            "max_width": null,
            "order": null,
            "_view_module_version": "1.2.0",
            "grid_template_areas": null,
            "object_position": null,
            "object_fit": null,
            "grid_auto_columns": null,
            "margin": null,
            "display": null,
            "left": null
          }
        },
        "17e92d53b82a4d0cb494686324b9ec83": {
          "model_module": "@jupyter-widgets/controls",
          "model_name": "FloatProgressModel",
          "state": {
            "_view_name": "ProgressView",
            "style": "IPY_MODEL_cfd60b7dff5b4736b8a84a4586c10afb",
            "_dom_classes": [],
            "description": "100%",
            "_model_name": "FloatProgressModel",
            "bar_style": "success",
            "max": 3385,
            "_view_module": "@jupyter-widgets/controls",
            "_model_module_version": "1.5.0",
            "value": 3385,
            "_view_count": null,
            "_view_module_version": "1.5.0",
            "orientation": "horizontal",
            "min": 0,
            "description_tooltip": null,
            "_model_module": "@jupyter-widgets/controls",
            "layout": "IPY_MODEL_dbc26f67931e4b7bbf853bd6286569dc"
          }
        },
        "bdaa231e1fb74e0f906aa3d8bcd4cfca": {
          "model_module": "@jupyter-widgets/controls",
          "model_name": "HTMLModel",
          "state": {
            "_view_name": "HTMLView",
            "style": "IPY_MODEL_9deb152715904d4383a57db90ff54d62",
            "_dom_classes": [],
            "description": "",
            "_model_name": "HTMLModel",
            "placeholder": "​",
            "_view_module": "@jupyter-widgets/controls",
            "_model_module_version": "1.5.0",
            "value": " 3385/3385 [00:15&lt;00:00, 214.76it/s]",
            "_view_count": null,
            "_view_module_version": "1.5.0",
            "description_tooltip": null,
            "_model_module": "@jupyter-widgets/controls",
            "layout": "IPY_MODEL_bf5dade27aa04373b71b686b27218150"
          }
        },
        "cfd60b7dff5b4736b8a84a4586c10afb": {
          "model_module": "@jupyter-widgets/controls",
          "model_name": "ProgressStyleModel",
          "state": {
            "_view_name": "StyleView",
            "_model_name": "ProgressStyleModel",
            "description_width": "initial",
            "_view_module": "@jupyter-widgets/base",
            "_model_module_version": "1.5.0",
            "_view_count": null,
            "_view_module_version": "1.2.0",
            "bar_color": null,
            "_model_module": "@jupyter-widgets/controls"
          }
        },
        "dbc26f67931e4b7bbf853bd6286569dc": {
          "model_module": "@jupyter-widgets/base",
          "model_name": "LayoutModel",
          "state": {
            "_view_name": "LayoutView",
            "grid_template_rows": null,
            "right": null,
            "justify_content": null,
            "_view_module": "@jupyter-widgets/base",
            "overflow": null,
            "_model_module_version": "1.2.0",
            "_view_count": null,
            "flex_flow": null,
            "width": null,
            "min_width": null,
            "border": null,
            "align_items": null,
            "bottom": null,
            "_model_module": "@jupyter-widgets/base",
            "top": null,
            "grid_column": null,
            "overflow_y": null,
            "overflow_x": null,
            "grid_auto_flow": null,
            "grid_area": null,
            "grid_template_columns": null,
            "flex": null,
            "_model_name": "LayoutModel",
            "justify_items": null,
            "grid_row": null,
            "max_height": null,
            "align_content": null,
            "visibility": null,
            "align_self": null,
            "height": null,
            "min_height": null,
            "padding": null,
            "grid_auto_rows": null,
            "grid_gap": null,
            "max_width": null,
            "order": null,
            "_view_module_version": "1.2.0",
            "grid_template_areas": null,
            "object_position": null,
            "object_fit": null,
            "grid_auto_columns": null,
            "margin": null,
            "display": null,
            "left": null
          }
        },
        "9deb152715904d4383a57db90ff54d62": {
          "model_module": "@jupyter-widgets/controls",
          "model_name": "DescriptionStyleModel",
          "state": {
            "_view_name": "StyleView",
            "_model_name": "DescriptionStyleModel",
            "description_width": "",
            "_view_module": "@jupyter-widgets/base",
            "_model_module_version": "1.5.0",
            "_view_count": null,
            "_view_module_version": "1.2.0",
            "_model_module": "@jupyter-widgets/controls"
          }
        },
        "bf5dade27aa04373b71b686b27218150": {
          "model_module": "@jupyter-widgets/base",
          "model_name": "LayoutModel",
          "state": {
            "_view_name": "LayoutView",
            "grid_template_rows": null,
            "right": null,
            "justify_content": null,
            "_view_module": "@jupyter-widgets/base",
            "overflow": null,
            "_model_module_version": "1.2.0",
            "_view_count": null,
            "flex_flow": null,
            "width": null,
            "min_width": null,
            "border": null,
            "align_items": null,
            "bottom": null,
            "_model_module": "@jupyter-widgets/base",
            "top": null,
            "grid_column": null,
            "overflow_y": null,
            "overflow_x": null,
            "grid_auto_flow": null,
            "grid_area": null,
            "grid_template_columns": null,
            "flex": null,
            "_model_name": "LayoutModel",
            "justify_items": null,
            "grid_row": null,
            "max_height": null,
            "align_content": null,
            "visibility": null,
            "align_self": null,
            "height": null,
            "min_height": null,
            "padding": null,
            "grid_auto_rows": null,
            "grid_gap": null,
            "max_width": null,
            "order": null,
            "_view_module_version": "1.2.0",
            "grid_template_areas": null,
            "object_position": null,
            "object_fit": null,
            "grid_auto_columns": null,
            "margin": null,
            "display": null,
            "left": null
          }
        }
      }
    }
  },
  "cells": [
    {
      "cell_type": "markdown",
      "metadata": {
        "id": "view-in-github",
        "colab_type": "text"
      },
      "source": [
        "<a href=\"https://colab.research.google.com/github/uxrkhan/action-recognition/blob/main/notebooks/lstm_test.ipynb\" target=\"_parent\"><img src=\"https://colab.research.google.com/assets/colab-badge.svg\" alt=\"Open In Colab\"/></a>"
      ]
    },
    {
      "cell_type": "code",
      "metadata": {
        "colab": {
          "base_uri": "https://localhost:8080/"
        },
        "id": "W1j3PkP9yN3K",
        "outputId": "73cda0df-fa99-4abe-8e22-ba401cb35f57"
      },
      "source": [
        "!rm -rf sample_data\r\n",
        "!git clone https://www.github.com/harvitronix/five-video-classification-methods.git\r\n",
        "!mv five-video-classification-methods/* .\r\n",
        "!rm -rf five-video-classification-methods"
      ],
      "execution_count": 1,
      "outputs": [
        {
          "output_type": "stream",
          "text": [
            "Cloning into 'five-video-classification-methods'...\n",
            "warning: redirecting to https://github.com/harvitronix/five-video-classification-methods.git/\n",
            "remote: Enumerating objects: 495, done.\u001b[K\n",
            "remote: Total 495 (delta 0), reused 0 (delta 0), pack-reused 495\u001b[K\n",
            "Receiving objects: 100% (495/495), 322.37 KiB | 582.00 KiB/s, done.\n",
            "Resolving deltas: 100% (289/289), done.\n"
          ],
          "name": "stdout"
        }
      ]
    },
    {
      "cell_type": "code",
      "metadata": {
        "id": "eyJYAcHByk4j",
        "colab": {
          "base_uri": "https://localhost:8080/"
        },
        "outputId": "433e1cc7-2032-4ae2-f0be-ebc97063cb13"
      },
      "source": [
        "!rsync --progress drive/MyDrive/data_tar/sequences40.tar .\r\n",
        "!tar xf sequences40.tar --checkpoint=.5000\r\n",
        "!rm sequences40.tar\r\n",
        "!mv sequences data\r\n",
        "!echo\r\n",
        "\r\n",
        "!rsync --progress drive/MyDrive/data_tar/test.tar .\r\n",
        "!tar xf test.tar --checkpoint=.5000\r\n",
        "!rm test.tar\r\n",
        "!mv test data\r\n",
        "!echo\r\n",
        "\r\n",
        "!rsync --progress drive/MyDrive/data_tar/train.tar .\r\n",
        "!tar xf train.tar --checkpoint=.10000\r\n",
        "!rm train.tar\r\n",
        "!mv train data"
      ],
      "execution_count": 2,
      "outputs": [
        {
          "output_type": "stream",
          "text": [
            "sequences40.tar\n",
            "  3,930,644,480 100%   22.14MB/s    0:02:49 (xfr#1, to-chk=0/1)\n",
            "............................................................................\n",
            "test.tar\n",
            "  5,118,146,560 100%   20.08MB/s    0:04:03 (xfr#1, to-chk=0/1)\n",
            "...................................................................................................\n",
            "train.tar\n",
            " 13,107,425,280 100%   15.68MB/s    0:13:17 (xfr#1, to-chk=0/1)\n",
            "................................................................................................................................"
          ],
          "name": "stdout"
        }
      ]
    },
    {
      "cell_type": "code",
      "metadata": {
        "id": "OEgVOZuT9Txt"
      },
      "source": [
        "!mkdir data/checkpoints\r\n",
        "!mkdir data/logs"
      ],
      "execution_count": null,
      "outputs": []
    },
    {
      "cell_type": "code",
      "metadata": {
        "id": "tHa-pJgu9ikv"
      },
      "source": [
        "!mv data/data_file.csv data/data_file_original.csv\r\n",
        "!rsync -progress drive/MyDrive/data/data_file.csv data/data_file.csv"
      ],
      "execution_count": null,
      "outputs": []
    },
    {
      "cell_type": "code",
      "metadata": {
        "id": "fgqhiya4-IXz"
      },
      "source": [
        "\"\"\"\r\n",
        "Class for managing our data.\r\n",
        "\"\"\"\r\n",
        "import csv\r\n",
        "import numpy as np\r\n",
        "import random\r\n",
        "import glob\r\n",
        "import os.path\r\n",
        "import sys\r\n",
        "import operator\r\n",
        "import threading\r\n",
        "from processor import process_image\r\n",
        "from keras.utils import to_categorical\r\n",
        "from tqdm import notebook as tqdm\r\n",
        "\r\n",
        "class threadsafe_iterator:\r\n",
        "    def __init__(self, iterator):\r\n",
        "        self.iterator = iterator\r\n",
        "        self.lock = threading.Lock()\r\n",
        "\r\n",
        "    def __iter__(self):\r\n",
        "        return self\r\n",
        "\r\n",
        "    def __next__(self):\r\n",
        "        with self.lock:\r\n",
        "            return next(self.iterator)\r\n",
        "\r\n",
        "def threadsafe_generator(func):\r\n",
        "    \"\"\"Decorator\"\"\"\r\n",
        "    def gen(*a, **kw):\r\n",
        "        return threadsafe_iterator(func(*a, **kw))\r\n",
        "    return gen\r\n",
        "\r\n",
        "class DataSet():\r\n",
        "\r\n",
        "    def __init__(self, seq_length=40, class_limit=None, image_shape=(224, 224, 3)):\r\n",
        "        \"\"\"Constructor.\r\n",
        "        seq_length = (int) the number of frames to consider\r\n",
        "        class_limit = (int) number of classes to limit the data to.\r\n",
        "            None = no limit.\r\n",
        "        \"\"\"\r\n",
        "        self.seq_length = seq_length\r\n",
        "        self.class_limit = class_limit\r\n",
        "        self.sequence_path = os.path.join('data', 'sequences')\r\n",
        "        self.max_frames = 300  # max number of frames a video can have for us to use it\r\n",
        "\r\n",
        "        # Get the data.\r\n",
        "        self.data = self.get_data()\r\n",
        "\r\n",
        "        # Get the classes.\r\n",
        "        self.classes = self.get_classes()\r\n",
        "\r\n",
        "        # Now do some minor data cleaning.\r\n",
        "        self.data = self.clean_data()\r\n",
        "\r\n",
        "        self.image_shape = image_shape\r\n",
        "\r\n",
        "    @staticmethod\r\n",
        "    def get_data():\r\n",
        "        \"\"\"Load our data from file.\"\"\"\r\n",
        "        with open(os.path.join('data', 'data_file.csv'), 'r') as fin:\r\n",
        "            reader = csv.reader(fin)\r\n",
        "            data = list(reader)\r\n",
        "\r\n",
        "        return data\r\n",
        "\r\n",
        "    def clean_data(self):\r\n",
        "        \"\"\"Limit samples to greater than the sequence length and fewer\r\n",
        "        than N frames. Also limit it to classes we want to use.\"\"\"\r\n",
        "        data_clean = []\r\n",
        "        for item in self.data:\r\n",
        "            if int(item[3]) >= self.seq_length and int(item[3]) <= self.max_frames \\\r\n",
        "                    and item[1] in self.classes:\r\n",
        "                data_clean.append(item)\r\n",
        "\r\n",
        "        return data_clean\r\n",
        "\r\n",
        "    def get_classes(self):\r\n",
        "        \"\"\"Extract the classes from our data. If we want to limit them,\r\n",
        "        only return the classes we need.\"\"\"\r\n",
        "        classes = []\r\n",
        "        for item in self.data:\r\n",
        "            if item[1] not in classes:\r\n",
        "                classes.append(item[1])\r\n",
        "\r\n",
        "        # Sort them.\r\n",
        "        classes = sorted(classes)\r\n",
        "\r\n",
        "        # Return.\r\n",
        "        if self.class_limit is not None:\r\n",
        "            return classes[:self.class_limit]\r\n",
        "        else:\r\n",
        "            return classes\r\n",
        "\r\n",
        "    def get_class_one_hot(self, class_str):\r\n",
        "        \"\"\"Given a class as a string, return its number in the classes\r\n",
        "        list. This lets us encode and one-hot it for training.\"\"\"\r\n",
        "        # Encode it first.\r\n",
        "        label_encoded = self.classes.index(class_str)\r\n",
        "\r\n",
        "        # Now one-hot it.\r\n",
        "        label_hot = to_categorical(label_encoded, len(self.classes))\r\n",
        "\r\n",
        "        assert len(label_hot) == len(self.classes)\r\n",
        "\r\n",
        "        return label_hot\r\n",
        "\r\n",
        "    def split_train_test(self):\r\n",
        "        \"\"\"Split the data into train and test groups.\"\"\"\r\n",
        "        train = []\r\n",
        "        test = []\r\n",
        "        for item in self.data:\r\n",
        "            if item[0] == 'train':\r\n",
        "                train.append(item)\r\n",
        "            else:\r\n",
        "                test.append(item)\r\n",
        "        return train, test\r\n",
        "\r\n",
        "    def get_all_sequences_in_memory(self, train_test, data_type):\r\n",
        "        \"\"\"\r\n",
        "        This is a mirror of our generator, but attempts to load everything into\r\n",
        "        memory so we can train way faster.\r\n",
        "        \"\"\"\r\n",
        "        # Get the right dataset.\r\n",
        "        train, test = self.split_train_test()\r\n",
        "        data = train if train_test == 'train' else test\r\n",
        "\r\n",
        "        print(\"Loading %d samples into memory for %sing.\" % (len(data), train_test))\r\n",
        "\r\n",
        "        X, y = [], []\r\n",
        "        pbar = tqdm.tqdm(total=len(data))\r\n",
        "        for row in data:\r\n",
        "\r\n",
        "            if data_type == 'images':\r\n",
        "                frames = self.get_frames_for_sample(row)\r\n",
        "                frames = self.rescale_list(frames, self.seq_length)\r\n",
        "\r\n",
        "                # Build the image sequence\r\n",
        "                sequence = self.build_image_sequence(frames)\r\n",
        "\r\n",
        "            else:\r\n",
        "                sequence = self.get_extracted_sequence(data_type, row)\r\n",
        "\r\n",
        "                if sequence is None:\r\n",
        "                    print(\"Can't find sequence. Did you generate them?\")\r\n",
        "                    raise\r\n",
        "\r\n",
        "            X.append(sequence)\r\n",
        "            y.append(self.get_class_one_hot(row[1]))\r\n",
        "            pbar.update(1)\r\n",
        "        pbar.close()\r\n",
        "\r\n",
        "        return np.array(X), np.array(y)\r\n",
        "\r\n",
        "    @threadsafe_generator\r\n",
        "    def frame_generator(self, batch_size, train_test, data_type):\r\n",
        "        \"\"\"Return a generator that we can use to train on. There are\r\n",
        "        a couple different things we can return:\r\n",
        "\r\n",
        "        data_type: 'features', 'images'\r\n",
        "        \"\"\"\r\n",
        "        # Get the right dataset for the generator.\r\n",
        "        train, test = self.split_train_test()\r\n",
        "        data = train if train_test == 'train' else test\r\n",
        "\r\n",
        "        print(\"Creating %s generator with %d samples.\" % (train_test, len(data)))\r\n",
        "\r\n",
        "        while 1:\r\n",
        "            X, y = [], []\r\n",
        "\r\n",
        "            # Generate batch_size samples.\r\n",
        "            for _ in range(batch_size):\r\n",
        "                # Reset to be safe.\r\n",
        "                sequence = None\r\n",
        "\r\n",
        "                # Get a random sample.\r\n",
        "                sample = random.choice(data)\r\n",
        "\r\n",
        "                # Check to see if we've already saved this sequence.\r\n",
        "                if data_type is \"images\":\r\n",
        "                    # Get and resample frames.\r\n",
        "                    frames = self.get_frames_for_sample(sample)\r\n",
        "                    frames = self.rescale_list(frames, self.seq_length)\r\n",
        "\r\n",
        "                    # Build the image sequence\r\n",
        "                    sequence = self.build_image_sequence(frames)\r\n",
        "                else:\r\n",
        "                    # Get the sequence from disk.\r\n",
        "                    sequence = self.get_extracted_sequence(data_type, sample)\r\n",
        "\r\n",
        "                    if sequence is None:\r\n",
        "                        raise ValueError(\"Can't find sequence. Did you generate them?\")\r\n",
        "\r\n",
        "                X.append(sequence)\r\n",
        "                y.append(self.get_class_one_hot(sample[1]))\r\n",
        "\r\n",
        "            yield np.array(X), np.array(y)\r\n",
        "\r\n",
        "    def build_image_sequence(self, frames):\r\n",
        "        \"\"\"Given a set of frames (filenames), build our sequence.\"\"\"\r\n",
        "        return [process_image(x, self.image_shape) for x in frames]\r\n",
        "\r\n",
        "    def get_extracted_sequence(self, data_type, sample):\r\n",
        "        \"\"\"Get the saved extracted features.\"\"\"\r\n",
        "        filename = sample[2]\r\n",
        "        path = os.path.join(self.sequence_path, filename + '-' + str(self.seq_length) + \\\r\n",
        "            '-' + data_type + '.npy')\r\n",
        "        if os.path.isfile(path):\r\n",
        "            return np.load(path)\r\n",
        "        else:\r\n",
        "            return None\r\n",
        "\r\n",
        "    def get_frames_by_filename(self, filename, data_type):\r\n",
        "        \"\"\"Given a filename for one of our samples, return the data\r\n",
        "        the model needs to make predictions.\"\"\"\r\n",
        "        # First, find the sample row.\r\n",
        "        sample = None\r\n",
        "        for row in self.data:\r\n",
        "            if row[2] == filename:\r\n",
        "                sample = row\r\n",
        "                break\r\n",
        "        if sample is None:\r\n",
        "            raise ValueError(\"Couldn't find sample: %s\" % filename)\r\n",
        "\r\n",
        "        if data_type == \"images\":\r\n",
        "            # Get and resample frames.\r\n",
        "            frames = self.get_frames_for_sample(sample)\r\n",
        "            frames = self.rescale_list(frames, self.seq_length)\r\n",
        "            # Build the image sequence\r\n",
        "            sequence = self.build_image_sequence(frames)\r\n",
        "        else:\r\n",
        "            # Get the sequence from disk.\r\n",
        "            sequence = self.get_extracted_sequence(data_type, sample)\r\n",
        "\r\n",
        "            if sequence is None:\r\n",
        "                raise ValueError(\"Can't find sequence. Did you generate them?\")\r\n",
        "\r\n",
        "        return sequence\r\n",
        "\r\n",
        "    @staticmethod\r\n",
        "    def get_frames_for_sample(sample):\r\n",
        "        \"\"\"Given a sample row from the data file, get all the corresponding frame\r\n",
        "        filenames.\"\"\"\r\n",
        "        path = os.path.join('data', sample[0], sample[1])\r\n",
        "        filename = sample[2]\r\n",
        "        images = sorted(glob.glob(os.path.join(path, filename + '*jpg')))\r\n",
        "        return images\r\n",
        "\r\n",
        "    @staticmethod\r\n",
        "    def get_filename_from_image(filename):\r\n",
        "        parts = filename.split(os.path.sep)\r\n",
        "        return parts[-1].replace('.jpg', '')\r\n",
        "\r\n",
        "    @staticmethod\r\n",
        "    def rescale_list(input_list, size):\r\n",
        "        \"\"\"Given a list and a size, return a rescaled/samples list. For example,\r\n",
        "        if we want a list of size 5 and we have a list of size 25, return a new\r\n",
        "        list of size five which is every 5th element of the origina list.\"\"\"\r\n",
        "        assert len(input_list) >= size\r\n",
        "\r\n",
        "        # Get the number to skip between iterations.\r\n",
        "        skip = len(input_list) // size\r\n",
        "\r\n",
        "        # Build our new output.\r\n",
        "        output = [input_list[i] for i in range(0, len(input_list), skip)]\r\n",
        "\r\n",
        "        # Cut off the last one if needed.\r\n",
        "        return output[:size]\r\n",
        "\r\n",
        "    def print_class_from_prediction(self, predictions, nb_to_return=5):\r\n",
        "        \"\"\"Given a prediction, print the top classes.\"\"\"\r\n",
        "        # Get the prediction for each label.\r\n",
        "        label_predictions = {}\r\n",
        "        for i, label in enumerate(self.classes):\r\n",
        "            label_predictions[label] = predictions[i]\r\n",
        "\r\n",
        "        # Now sort them.\r\n",
        "        sorted_lps = sorted(\r\n",
        "            label_predictions.items(),\r\n",
        "            key=operator.itemgetter(1),\r\n",
        "            reverse=True\r\n",
        "        )\r\n",
        "\r\n",
        "        # And return the top N.\r\n",
        "        for i, class_prediction in enumerate(sorted_lps):\r\n",
        "            if i > nb_to_return - 1 or class_prediction[1] == 0.0:\r\n",
        "                break\r\n",
        "            print(\"%s: %.2f\" % (class_prediction[0], class_prediction[1]))\r\n"
      ],
      "execution_count": null,
      "outputs": []
    },
    {
      "cell_type": "code",
      "metadata": {
        "colab": {
          "base_uri": "https://localhost:8080/",
          "height": 1000,
          "referenced_widgets": [
            "1b7dd55d112c4134a2b47f71b53bd4e6",
            "19a96bfa0c40433daea558410d341043",
            "330b8a853cb5433184b7ff143a643f55",
            "0b1a42e53a794a77af6b1c11449bd074",
            "175da91f4df54b078bf9c22b4c81fc46",
            "aa190e3276ae4ebe8b122375b25e25a6",
            "05e8f8c4495c4fa99d1c429ac7776e31",
            "63999119d84a4fc88f7c1e5fb24c1ed2",
            "b47d2c93588145f195aa048e5d346eab",
            "410fd40fb1234f499cfb157791895bdc",
            "e2c478bcbf454ab0919c4a3df8cd0603",
            "26ab2eb797cf456dadf8218550420755",
            "32942cd1b17b409b82c64970f0422a7e",
            "8fc6e482143b4c869e6368fd76b6a126",
            "28615a9ae72a43248ff1dae7f225f432",
            "7704007ecba44eb4b3a68a963eb346d8"
          ]
        },
        "id": "7dvbQUja56le",
        "outputId": "958440c7-0741-4a47-b1e6-9d57ffbf76a6"
      },
      "source": [
        "# TRAIN \r\n",
        "\r\n",
        "from keras.callbacks import TensorBoard, ModelCheckpoint, EarlyStopping, CSVLogger, Callback\r\n",
        "from models import ResearchModels\r\n",
        "import time\r\n",
        "import os.path\r\n",
        "\r\n",
        "def train(data_type, seq_length, model, saved_model=None,\r\n",
        "          class_limit=None, image_shape=None,\r\n",
        "          load_to_memory=False, batch_size=32, nb_epoch=100):\r\n",
        "    # Helper: Save the model.\r\n",
        "    checkpointer = ModelCheckpoint(\r\n",
        "        filepath=os.path.join('data', 'checkpoints', model + '-' + data_type + \\\r\n",
        "            '.{epoch:03d}-{val_loss:.3f}.hdf5'),\r\n",
        "        verbose=1,\r\n",
        "        save_best_only=True)\r\n",
        "    \r\n",
        "    # Helper: TensorBoard\r\n",
        "    tb = TensorBoard(log_dir=os.path.join('data', 'logs', model))\r\n",
        "\r\n",
        "    # Helper: Stop when we stop learning.\r\n",
        "    early_stopper = EarlyStopping(patience=8)\r\n",
        "\r\n",
        "    # Helper: Save results.\r\n",
        "    timestamp = time.time()\r\n",
        "    csv_logger = CSVLogger(os.path.join('data', 'logs', model + '-' + 'training-' + \\\r\n",
        "        str(timestamp) + '.log'))\r\n",
        "\r\n",
        "    # Get the data and process it.\r\n",
        "    if image_shape is None:\r\n",
        "        data = DataSet(\r\n",
        "            seq_length=seq_length,\r\n",
        "            class_limit=class_limit\r\n",
        "        )\r\n",
        "    else:\r\n",
        "        data = DataSet(\r\n",
        "            seq_length=seq_length,\r\n",
        "            class_limit=class_limit,\r\n",
        "            image_shape=image_shape\r\n",
        "        )\r\n",
        "\r\n",
        "    # Get samples per epoch.\r\n",
        "    # Multiply by 0.7 to attempt to guess how much of data.data is the train set.\r\n",
        "    steps_per_epoch = (len(data.data) * 0.7) // batch_size\r\n",
        "    print(\"Length of data: \" + str(len(data.data)))\r\n",
        "    print(\"Steps per epoch: \" + str(steps_per_epoch))\r\n",
        "\r\n",
        "    if load_to_memory:\r\n",
        "        # Get data.\r\n",
        "        X, y = data.get_all_sequences_in_memory('train', data_type)\r\n",
        "        X_test, y_test = data.get_all_sequences_in_memory('test', data_type)\r\n",
        "    else:\r\n",
        "        # Get generators.\r\n",
        "        generator = data.frame_generator(batch_size, 'train', data_type)\r\n",
        "        val_generator = data.frame_generator(batch_size, 'test', data_type)\r\n",
        "\r\n",
        "    # Get the model.\r\n",
        "    rm = ResearchModels(len(data.classes), model, seq_length, saved_model)\r\n",
        "\r\n",
        "    # Fit!\r\n",
        "    if load_to_memory:\r\n",
        "        # Use standard fit.\r\n",
        "        rm.model.fit(\r\n",
        "            X,\r\n",
        "            y,\r\n",
        "            batch_size=batch_size,\r\n",
        "            validation_data=(X_test, y_test),\r\n",
        "            verbose=1,\r\n",
        "            callbacks=[tb, early_stopper, csv_logger, checkpointer],\r\n",
        "            epochs=nb_epoch)\r\n",
        "    else:\r\n",
        "        # Use fit generator.\r\n",
        "        rm.model.fit_generator(\r\n",
        "            generator=generator,\r\n",
        "            steps_per_epoch=steps_per_epoch,\r\n",
        "            epochs=nb_epoch,\r\n",
        "            verbose=1,\r\n",
        "            callbacks=[tb, early_stopper, csv_logger, checkpointer],\r\n",
        "            validation_data=val_generator,\r\n",
        "            validation_steps=40,\r\n",
        "            workers=4)\r\n",
        "        \r\n",
        "    return rm.model\r\n",
        "\r\n",
        "# model can be one of lstm, lrcn, mlp, conv_3d, c3d\r\n",
        "model = 'lstm'\r\n",
        "saved_model = None #  None or weights file\r\n",
        "class_limit = None  # int, can be 1-101 or None\r\n",
        "seq_length = 40\r\n",
        "load_to_memory = True  # pre-load the sequences into memory\r\n",
        "batch_size = 32\r\n",
        "nb_epoch = 1000\r\n",
        "\r\n",
        "# Chose images or features and image shape based on network.\r\n",
        "if model in ['conv_3d', 'c3d', 'lrcn']:\r\n",
        "    data_type = 'images'\r\n",
        "    image_shape = (80, 80, 3)\r\n",
        "elif model in ['lstm', 'mlp']:\r\n",
        "    data_type = 'features'\r\n",
        "    image_shape = None\r\n",
        "else:\r\n",
        "    raise ValueError(\"Invalid model. See train.py for options.\")\r\n",
        "\r\n",
        "trained_model = train(data_type, seq_length, model, saved_model=saved_model,\r\n",
        "      class_limit=class_limit, image_shape=image_shape,\r\n",
        "      load_to_memory=load_to_memory, batch_size=batch_size, nb_epoch=nb_epoch)"
      ],
      "execution_count": null,
      "outputs": [
        {
          "output_type": "stream",
          "text": [
            "Length of data: 11958\n",
            "Steps per epoch: 261.0\n",
            "Loading 8573 samples into memory for training.\n"
          ],
          "name": "stdout"
        },
        {
          "output_type": "display_data",
          "data": {
            "application/vnd.jupyter.widget-view+json": {
              "model_id": "1b7dd55d112c4134a2b47f71b53bd4e6",
              "version_minor": 0,
              "version_major": 2
            },
            "text/plain": [
              "HBox(children=(FloatProgress(value=0.0, max=8573.0), HTML(value='')))"
            ]
          },
          "metadata": {
            "tags": []
          }
        },
        {
          "output_type": "stream",
          "text": [
            "\n",
            "Loading 3385 samples into memory for testing.\n"
          ],
          "name": "stdout"
        },
        {
          "output_type": "display_data",
          "data": {
            "application/vnd.jupyter.widget-view+json": {
              "model_id": "b47d2c93588145f195aa048e5d346eab",
              "version_minor": 0,
              "version_major": 2
            },
            "text/plain": [
              "HBox(children=(FloatProgress(value=0.0, max=3385.0), HTML(value='')))"
            ]
          },
          "metadata": {
            "tags": []
          }
        },
        {
          "output_type": "stream",
          "text": [
            "\n",
            "Loading LSTM model.\n",
            "Model: \"sequential\"\n",
            "_________________________________________________________________\n",
            "Layer (type)                 Output Shape              Param #   \n",
            "=================================================================\n",
            "lstm (LSTM)                  (None, 2048)              33562624  \n",
            "_________________________________________________________________\n",
            "dense (Dense)                (None, 512)               1049088   \n",
            "_________________________________________________________________\n",
            "dropout (Dropout)            (None, 512)               0         \n",
            "_________________________________________________________________\n",
            "dense_1 (Dense)              (None, 101)               51813     \n",
            "=================================================================\n",
            "Total params: 34,663,525\n",
            "Trainable params: 34,663,525\n",
            "Non-trainable params: 0\n",
            "_________________________________________________________________\n",
            "None\n",
            "Epoch 1/1000\n",
            "268/268 [==============================] - 40s 121ms/step - loss: 4.5055 - accuracy: 0.0455 - top_k_categorical_accuracy: 0.1402 - val_loss: 3.6022 - val_accuracy: 0.3510 - val_top_k_categorical_accuracy: 0.5985\n",
            "\n",
            "Epoch 00001: val_loss improved from inf to 3.60217, saving model to data/checkpoints/lstm-features.001-3.602.hdf5\n",
            "Epoch 2/1000\n",
            "268/268 [==============================] - 33s 125ms/step - loss: 3.2513 - accuracy: 0.3336 - top_k_categorical_accuracy: 0.5783 - val_loss: 2.0455 - val_accuracy: 0.5489 - val_top_k_categorical_accuracy: 0.8059\n",
            "\n",
            "Epoch 00002: val_loss improved from 3.60217 to 2.04555, saving model to data/checkpoints/lstm-features.002-2.046.hdf5\n",
            "Epoch 3/1000\n",
            "268/268 [==============================] - 34s 127ms/step - loss: 1.8536 - accuracy: 0.5763 - top_k_categorical_accuracy: 0.8170 - val_loss: 1.5257 - val_accuracy: 0.6381 - val_top_k_categorical_accuracy: 0.8588\n",
            "\n",
            "Epoch 00003: val_loss improved from 2.04555 to 1.52569, saving model to data/checkpoints/lstm-features.003-1.526.hdf5\n",
            "Epoch 4/1000\n",
            "268/268 [==============================] - 33s 124ms/step - loss: 1.2543 - accuracy: 0.6959 - top_k_categorical_accuracy: 0.9037 - val_loss: 1.3499 - val_accuracy: 0.6597 - val_top_k_categorical_accuracy: 0.8756\n",
            "\n",
            "Epoch 00004: val_loss improved from 1.52569 to 1.34989, saving model to data/checkpoints/lstm-features.004-1.350.hdf5\n",
            "Epoch 5/1000\n",
            "268/268 [==============================] - 34s 126ms/step - loss: 0.9182 - accuracy: 0.7783 - top_k_categorical_accuracy: 0.9463 - val_loss: 1.2364 - val_accuracy: 0.6815 - val_top_k_categorical_accuracy: 0.8857\n",
            "\n",
            "Epoch 00005: val_loss improved from 1.34989 to 1.23640, saving model to data/checkpoints/lstm-features.005-1.236.hdf5\n",
            "Epoch 6/1000\n",
            "268/268 [==============================] - 34s 126ms/step - loss: 0.6929 - accuracy: 0.8336 - top_k_categorical_accuracy: 0.9682 - val_loss: 1.1793 - val_accuracy: 0.6869 - val_top_k_categorical_accuracy: 0.8910\n",
            "\n",
            "Epoch 00006: val_loss improved from 1.23640 to 1.17933, saving model to data/checkpoints/lstm-features.006-1.179.hdf5\n",
            "Epoch 7/1000\n",
            "268/268 [==============================] - 34s 126ms/step - loss: 0.5610 - accuracy: 0.8676 - top_k_categorical_accuracy: 0.9765 - val_loss: 1.1422 - val_accuracy: 0.7037 - val_top_k_categorical_accuracy: 0.8910\n",
            "\n",
            "Epoch 00007: val_loss improved from 1.17933 to 1.14222, saving model to data/checkpoints/lstm-features.007-1.142.hdf5\n",
            "Epoch 8/1000\n",
            "268/268 [==============================] - 34s 125ms/step - loss: 0.4590 - accuracy: 0.8927 - top_k_categorical_accuracy: 0.9830 - val_loss: 1.1210 - val_accuracy: 0.7072 - val_top_k_categorical_accuracy: 0.8966\n",
            "\n",
            "Epoch 00008: val_loss improved from 1.14222 to 1.12097, saving model to data/checkpoints/lstm-features.008-1.121.hdf5\n",
            "Epoch 9/1000\n",
            "268/268 [==============================] - 34s 126ms/step - loss: 0.3571 - accuracy: 0.9177 - top_k_categorical_accuracy: 0.9883 - val_loss: 1.1074 - val_accuracy: 0.7164 - val_top_k_categorical_accuracy: 0.8936\n",
            "\n",
            "Epoch 00009: val_loss improved from 1.12097 to 1.10742, saving model to data/checkpoints/lstm-features.009-1.107.hdf5\n",
            "Epoch 10/1000\n",
            "268/268 [==============================] - 34s 126ms/step - loss: 0.3169 - accuracy: 0.9234 - top_k_categorical_accuracy: 0.9937 - val_loss: 1.1060 - val_accuracy: 0.7126 - val_top_k_categorical_accuracy: 0.8969\n",
            "\n",
            "Epoch 00010: val_loss improved from 1.10742 to 1.10596, saving model to data/checkpoints/lstm-features.010-1.106.hdf5\n",
            "Epoch 11/1000\n",
            "268/268 [==============================] - 34s 126ms/step - loss: 0.2422 - accuracy: 0.9454 - top_k_categorical_accuracy: 0.9952 - val_loss: 1.1077 - val_accuracy: 0.7134 - val_top_k_categorical_accuracy: 0.9001\n",
            "\n",
            "Epoch 00011: val_loss did not improve from 1.10596\n",
            "Epoch 12/1000\n",
            "268/268 [==============================] - 34s 127ms/step - loss: 0.2098 - accuracy: 0.9527 - top_k_categorical_accuracy: 0.9969 - val_loss: 1.1004 - val_accuracy: 0.7226 - val_top_k_categorical_accuracy: 0.9037\n",
            "\n",
            "Epoch 00012: val_loss improved from 1.10596 to 1.10044, saving model to data/checkpoints/lstm-features.012-1.100.hdf5\n",
            "Epoch 13/1000\n",
            "268/268 [==============================] - 34s 126ms/step - loss: 0.1727 - accuracy: 0.9619 - top_k_categorical_accuracy: 0.9984 - val_loss: 1.1124 - val_accuracy: 0.7143 - val_top_k_categorical_accuracy: 0.9055\n",
            "\n",
            "Epoch 00013: val_loss did not improve from 1.10044\n",
            "Epoch 14/1000\n",
            "268/268 [==============================] - 34s 127ms/step - loss: 0.1422 - accuracy: 0.9680 - top_k_categorical_accuracy: 0.9991 - val_loss: 1.1163 - val_accuracy: 0.7270 - val_top_k_categorical_accuracy: 0.9022\n",
            "\n",
            "Epoch 00014: val_loss did not improve from 1.10044\n",
            "Epoch 15/1000\n",
            "268/268 [==============================] - 34s 126ms/step - loss: 0.1251 - accuracy: 0.9767 - top_k_categorical_accuracy: 0.9994 - val_loss: 1.1690 - val_accuracy: 0.7179 - val_top_k_categorical_accuracy: 0.8957\n",
            "\n",
            "Epoch 00015: val_loss did not improve from 1.10044\n",
            "Epoch 16/1000\n",
            "268/268 [==============================] - 34s 126ms/step - loss: 0.1028 - accuracy: 0.9817 - top_k_categorical_accuracy: 0.9990 - val_loss: 1.1165 - val_accuracy: 0.7338 - val_top_k_categorical_accuracy: 0.9034\n",
            "\n",
            "Epoch 00016: val_loss did not improve from 1.10044\n",
            "Epoch 17/1000\n",
            "268/268 [==============================] - 34s 125ms/step - loss: 0.0948 - accuracy: 0.9810 - top_k_categorical_accuracy: 0.9997 - val_loss: 1.1340 - val_accuracy: 0.7261 - val_top_k_categorical_accuracy: 0.8981\n",
            "\n",
            "Epoch 00017: val_loss did not improve from 1.10044\n",
            "Epoch 18/1000\n",
            "268/268 [==============================] - 34s 126ms/step - loss: 0.0758 - accuracy: 0.9872 - top_k_categorical_accuracy: 0.9998 - val_loss: 1.1583 - val_accuracy: 0.7273 - val_top_k_categorical_accuracy: 0.9034\n",
            "\n",
            "Epoch 00018: val_loss did not improve from 1.10044\n",
            "Epoch 19/1000\n",
            "268/268 [==============================] - 34s 126ms/step - loss: 0.0718 - accuracy: 0.9871 - top_k_categorical_accuracy: 0.9993 - val_loss: 1.1396 - val_accuracy: 0.7297 - val_top_k_categorical_accuracy: 0.9049\n",
            "\n",
            "Epoch 00019: val_loss did not improve from 1.10044\n",
            "Epoch 20/1000\n",
            "268/268 [==============================] - 34s 126ms/step - loss: 0.0563 - accuracy: 0.9918 - top_k_categorical_accuracy: 0.9999 - val_loss: 1.1937 - val_accuracy: 0.7217 - val_top_k_categorical_accuracy: 0.8978\n",
            "\n",
            "Epoch 00020: val_loss did not improve from 1.10044\n"
          ],
          "name": "stdout"
        }
      ]
    },
    {
      "cell_type": "code",
      "metadata": {
        "id": "uF1Yoqw49aBd"
      },
      "source": [
        "!rm data/checkpoints/lstm-features.010-1.106.hdf5"
      ],
      "execution_count": null,
      "outputs": []
    },
    {
      "cell_type": "code",
      "metadata": {
        "colab": {
          "base_uri": "https://localhost:8080/"
        },
        "id": "f1RfBZKN93Xe",
        "outputId": "0a8fb4d6-35db-4406-ad26-da7994baa0d6"
      },
      "source": [
        "!cd data/ && zip -r logger5-lstm.zip logs\r\n",
        "!cd data/ && zip -r logger5-lstm.zip checkpoints"
      ],
      "execution_count": null,
      "outputs": [
        {
          "output_type": "stream",
          "text": [
            "  adding: logs/ (stored 0%)\n",
            "  adding: logs/lstm/ (stored 0%)\n",
            "  adding: logs/lstm/train/ (stored 0%)\n",
            "  adding: logs/lstm/train/events.out.tfevents.1612157234.d298a1cba66e.profile-empty (deflated 5%)\n",
            "  adding: logs/lstm/train/events.out.tfevents.1612157226.d298a1cba66e.761.617.v2 (deflated 88%)\n",
            "  adding: logs/lstm/train/plugins/ (stored 0%)\n",
            "  adding: logs/lstm/train/plugins/profile/ (stored 0%)\n",
            "  adding: logs/lstm/train/plugins/profile/2021_02_01_05_27_14/ (stored 0%)\n",
            "  adding: logs/lstm/train/plugins/profile/2021_02_01_05_27_14/d298a1cba66e.memory_profile.json.gz (stored 0%)\n",
            "  adding: logs/lstm/train/plugins/profile/2021_02_01_05_27_14/d298a1cba66e.xplane.pb (deflated 80%)\n",
            "  adding: logs/lstm/train/plugins/profile/2021_02_01_05_27_14/d298a1cba66e.overview_page.pb (deflated 55%)\n",
            "  adding: logs/lstm/train/plugins/profile/2021_02_01_05_27_14/d298a1cba66e.trace.json.gz (deflated 0%)\n",
            "  adding: logs/lstm/train/plugins/profile/2021_02_01_05_27_14/d298a1cba66e.kernel_stats.pb (deflated 93%)\n",
            "  adding: logs/lstm/train/plugins/profile/2021_02_01_05_27_14/d298a1cba66e.input_pipeline.pb (deflated 56%)\n",
            "  adding: logs/lstm/train/plugins/profile/2021_02_01_05_27_14/d298a1cba66e.tensorflow_stats.pb (deflated 71%)\n",
            "  adding: logs/lstm/validation/ (stored 0%)\n",
            "  adding: logs/lstm/validation/events.out.tfevents.1612157261.d298a1cba66e.761.4092.v2 (deflated 66%)\n",
            "  adding: logs/lstm-training-1612157132.6753058.log (deflated 51%)\n",
            "  adding: checkpoints/ (stored 0%)\n",
            "  adding: checkpoints/lstm-features.012-1.100.hdf5 (deflated 7%)\n"
          ],
          "name": "stdout"
        }
      ]
    },
    {
      "cell_type": "code",
      "metadata": {
        "colab": {
          "base_uri": "https://localhost:8080/"
        },
        "id": "XcVsrpg7Hii4",
        "outputId": "4b18f674-4328-484f-ef5c-4eb451b5342d"
      },
      "source": [
        "!rsync --progress data/logger5-lstm.zip drive/MyDrive/write_data/"
      ],
      "execution_count": null,
      "outputs": [
        {
          "output_type": "stream",
          "text": [
            "logger5-lstm.zip\n",
            "    385,189,744 100%  165.76MB/s    0:00:02 (xfr#1, to-chk=0/1)\n"
          ],
          "name": "stdout"
        }
      ]
    },
    {
      "cell_type": "code",
      "metadata": {
        "colab": {
          "base_uri": "https://localhost:8080/",
          "height": 283
        },
        "id": "ZgOs1dRHH7cl",
        "outputId": "d110b3d3-4ed2-42ef-ab5c-7abee0efb72f"
      },
      "source": [
        "import sys\r\n",
        "import csv\r\n",
        "import matplotlib.pyplot as plt\r\n",
        "\r\n",
        "training_log = '/content/data/logs/lstm-training-1612157132.6753058.log'\r\n",
        "\r\n",
        "validation_accuracies = []\r\n",
        "validation_loss = []\r\n",
        "training_accuracies = []\r\n",
        "training_loss = []\r\n",
        "validation_top_k_acc = []\r\n",
        "training_top_k_acc = []\r\n",
        "\r\n",
        "with open(training_log) as fin:\r\n",
        "    reader = csv.reader(fin)\r\n",
        "    next(reader, None)  # skip the header\r\n",
        "    for epoch,acc,loss,top_k_categorical_accuracy,val_acc,val_loss,val_top_k_categorical_accuracy in reader:\r\n",
        "        validation_accuracies.append(float(val_acc))\r\n",
        "        validation_loss.append(float(val_loss))\r\n",
        "        training_loss.append(float(loss))\r\n",
        "        training_accuracies.append(float(acc))\r\n",
        "        training_top_k_acc.append(float(top_k_categorical_accuracy))\r\n",
        "        validation_top_k_acc.append(float(val_top_k_categorical_accuracy))\r\n",
        "\r\n",
        "plt.plot(validation_loss, label='validation loss')\r\n",
        "plt.plot(training_loss, label='training loss')\r\n",
        "plt.xlabel('epochs')\r\n",
        "plt.ylabel('loss')\r\n",
        "plt.ylim((0,2))\r\n",
        "plt.xlim((0, len(training_loss)))\r\n",
        "plt.legend()\r\n",
        "plt.grid()\r\n",
        "plt.savefig('lstm-metrics-plot-loss.jpg')\r\n",
        "plt.show()"
      ],
      "execution_count": null,
      "outputs": [
        {
          "output_type": "display_data",
          "data": {
            "image/png": "[encoded data removed]",
            "text/plain": [
              "<Figure size 432x288 with 1 Axes>"
            ]
          },
          "metadata": {
            "tags": [],
            "needs_background": "light"
          }
        }
      ]
    },
    {
      "cell_type": "code",
      "metadata": {
        "colab": {
          "base_uri": "https://localhost:8080/",
          "height": 283
        },
        "id": "ZFxrluqlIS07",
        "outputId": "6add722a-b88f-49e7-9c65-5fc43826d232"
      },
      "source": [
        "plt.plot(validation_accuracies, label='validation acc')\r\n",
        "plt.plot(training_accuracies, label='training acc')\r\n",
        "plt.xlabel('epochs')\r\n",
        "plt.ylabel('accuracy')\r\n",
        "plt.ylim((0,2))\r\n",
        "plt.xlim((0, len(training_accuracies)))\r\n",
        "plt.legend()\r\n",
        "plt.grid()\r\n",
        "plt.savefig('lstm-metrics-plot-acc.jpg')\r\n",
        "plt.show()"
      ],
      "execution_count": null,
      "outputs": [
        {
          "output_type": "display_data",
          "data": {
            "image/png": "[encoded data removed]",
            "text/plain": [
              "<Figure size 432x288 with 1 Axes>"
            ]
          },
          "metadata": {
            "tags": [],
            "needs_background": "light"
          }
        }
      ]
    },
    {
      "cell_type": "code",
      "metadata": {
        "colab": {
          "base_uri": "https://localhost:8080/",
          "height": 283
        },
        "id": "zD_T8TaSIp2D",
        "outputId": "0e419460-c2f2-42e2-c532-b1f7cf83779e"
      },
      "source": [
        "plt.plot(validation_top_k_acc, label='val top-5 accuracy')\r\n",
        "plt.plot(training_top_k_acc, label='training top-5 accuracy')\r\n",
        "plt.xlabel('epochs')\r\n",
        "plt.ylabel('top-5 accuracy')\r\n",
        "plt.ylim((0,2))\r\n",
        "plt.xlim((0, len(training_top_k_acc)))\r\n",
        "plt.legend()\r\n",
        "plt.grid()\r\n",
        "plt.savefig('lstm-metrics-plot-top-5-cat.jpg')\r\n",
        "plt.show()"
      ],
      "execution_count": null,
      "outputs": [
        {
          "output_type": "display_data",
          "data": {
            "image/png": "[encoded data removed]",
            "text/plain": [
              "<Figure size 432x288 with 1 Axes>"
            ]
          },
          "metadata": {
            "tags": [],
            "needs_background": "light"
          }
        }
      ]
    },
    {
      "cell_type": "code",
      "metadata": {
        "colab": {
          "base_uri": "https://localhost:8080/",
          "height": 17
        },
        "id": "gokX8v-aJ9IB",
        "outputId": "4b130d16-bf48-424e-e68d-f27e000ae470"
      },
      "source": [
        "import google.colab.files as files\r\n",
        "files.download(\"lstm-metrics-plot-top-5-cat.jpg\")"
      ],
      "execution_count": null,
      "outputs": [
        {
          "output_type": "display_data",
          "data": {
            "application/javascript": [
              "\n",
              "    async function download(id, filename, size) {\n",
              "      if (!google.colab.kernel.accessAllowed) {\n",
              "        return;\n",
              "      }\n",
              "      const div = document.createElement('div');\n",
              "      const label = document.createElement('label');\n",
              "      label.textContent = `Downloading \"${filename}\": `;\n",
              "      div.appendChild(label);\n",
              "      const progress = document.createElement('progress');\n",
              "      progress.max = size;\n",
              "      div.appendChild(progress);\n",
              "      document.body.appendChild(div);\n",
              "\n",
              "      const buffers = [];\n",
              "      let downloaded = 0;\n",
              "\n",
              "      const channel = await google.colab.kernel.comms.open(id);\n",
              "      // Send a message to notify the kernel that we're ready.\n",
              "      channel.send({})\n",
              "\n",
              "      for await (const message of channel.messages) {\n",
              "        // Send a message to notify the kernel that we're ready.\n",
              "        channel.send({})\n",
              "        if (message.buffers) {\n",
              "          for (const buffer of message.buffers) {\n",
              "            buffers.push(buffer);\n",
              "            downloaded += buffer.byteLength;\n",
              "            progress.value = downloaded;\n",
              "          }\n",
              "        }\n",
              "      }\n",
              "      const blob = new Blob(buffers, {type: 'application/binary'});\n",
              "      const a = document.createElement('a');\n",
              "      a.href = window.URL.createObjectURL(blob);\n",
              "      a.download = filename;\n",
              "      div.appendChild(a);\n",
              "      a.click();\n",
              "      div.remove();\n",
              "    }\n",
              "  "
            ],
            "text/plain": [
              "<IPython.core.display.Javascript object>"
            ]
          },
          "metadata": {
            "tags": []
          }
        },
        {
          "output_type": "display_data",
          "data": {
            "application/javascript": [
              "download(\"download_2acfd4bd-48e8-43c5-814f-762444cb568b\", \"lstm-metrics-plot-top-5-cat.jpg\", 29523)"
            ],
            "text/plain": [
              "<IPython.core.display.Javascript object>"
            ]
          },
          "metadata": {
            "tags": []
          }
        }
      ]
    },
    {
      "cell_type": "code",
      "metadata": {
        "colab": {
          "base_uri": "https://localhost:8080/"
        },
        "id": "b3eC0KkQVWt8",
        "outputId": "32aae679-b280-4eea-8c48-982e534ba769"
      },
      "source": [
        "from keras.callbacks import TensorBoard, ModelCheckpoint, CSVLogger\r\n",
        "from models import ResearchModels\r\n",
        "\r\n",
        "model = 'lstm'\r\n",
        "saved_model = 'data/checkpoints/lstm-features.012-1.100.hdf5'\r\n",
        "data_type = 'features'\r\n",
        "image_shape = None\r\n",
        "class_limit = None\r\n",
        "\r\n",
        "batch_size = 32\r\n",
        "\r\n",
        "# Get the data and process it.\r\n",
        "data = DataSet(seq_length=seq_length, class_limit=class_limit)\r\n",
        "\r\n",
        "# Get the model.\r\n",
        "# rm = ResearchModels(len(data.classes), model, seq_length, saved_model)\r\n",
        "rm = ResearchModels(len(data.classes), model, seq_length, saved_model)\r\n",
        "\r\n",
        "# Evaluate!\r\n",
        "# val_generator = data.frame_generator(batch_size, 'test', data_type)\r\n",
        "# results = rm.model.evaluate(x=val_generator, steps=3200)"
      ],
      "execution_count": null,
      "outputs": [
        {
          "output_type": "stream",
          "text": [
            "Loading model data/checkpoints/lstm-features.012-1.100.hdf5\n",
            "Model: \"sequential\"\n",
            "_________________________________________________________________\n",
            "Layer (type)                 Output Shape              Param #   \n",
            "=================================================================\n",
            "lstm (LSTM)                  (None, 2048)              33562624  \n",
            "_________________________________________________________________\n",
            "dense (Dense)                (None, 512)               1049088   \n",
            "_________________________________________________________________\n",
            "dropout (Dropout)            (None, 512)               0         \n",
            "_________________________________________________________________\n",
            "dense_1 (Dense)              (None, 101)               51813     \n",
            "=================================================================\n",
            "Total params: 34,663,525\n",
            "Trainable params: 34,663,525\n",
            "Non-trainable params: 0\n",
            "_________________________________________________________________\n",
            "None\n"
          ],
          "name": "stdout"
        }
      ]
    },
    {
      "cell_type": "code",
      "metadata": {
        "colab": {
          "base_uri": "https://localhost:8080/",
          "height": 82,
          "referenced_widgets": [
            "4c49b37abcfa4db0aa5e603a42fc381a",
            "23a1bf69c9034746a368ca145f9338be",
            "17e92d53b82a4d0cb494686324b9ec83",
            "bdaa231e1fb74e0f906aa3d8bcd4cfca",
            "cfd60b7dff5b4736b8a84a4586c10afb",
            "dbc26f67931e4b7bbf853bd6286569dc",
            "9deb152715904d4383a57db90ff54d62",
            "bf5dade27aa04373b71b686b27218150"
          ]
        },
        "id": "ObkiTifuWgqN",
        "outputId": "88ce0d2d-7755-4ef7-f295-f740aa882888"
      },
      "source": [
        "X_test, y_test = data.get_all_sequences_in_memory('test', data_type)\r\n",
        "# results = rm.model.evaluate(x=X_test, y=y_test, batch_size=32)\r\n",
        "\r\n",
        "# print(results)\r\n",
        "# print(rm.model.metrics_names)\r\n",
        "\r\n",
        "predictions = rm.model.predict(x=X_test, batch_size=32)\r\n",
        "cm = confusion_matrix(y_test.argmax(axis=1), predictions.argmax(axis=1))"
      ],
      "execution_count": null,
      "outputs": [
        {
          "output_type": "stream",
          "text": [
            "Loading 3385 samples into memory for testing.\n"
          ],
          "name": "stdout"
        },
        {
          "output_type": "display_data",
          "data": {
            "application/vnd.jupyter.widget-view+json": {
              "model_id": "4c49b37abcfa4db0aa5e603a42fc381a",
              "version_minor": 0,
              "version_major": 2
            },
            "text/plain": [
              "HBox(children=(FloatProgress(value=0.0, max=3385.0), HTML(value='')))"
            ]
          },
          "metadata": {
            "tags": []
          }
        },
        {
          "output_type": "stream",
          "text": [
            "\n"
          ],
          "name": "stdout"
        }
      ]
    },
    {
      "cell_type": "code",
      "metadata": {
        "colab": {
          "base_uri": "https://localhost:8080/",
          "height": 1000
        },
        "id": "Twsk2HgapzJb",
        "outputId": "9daa13dd-ea52-4573-990b-2bbc4d6a87f2"
      },
      "source": [
        "import seaborn as sn\r\n",
        "import matplotlib.pyplot as plt\r\n",
        "import pandas as pd\r\n",
        "\r\n",
        "nb_classes = len(data.classes)\r\n",
        "df_cm = pd.DataFrame(cm, index=range(nb_classes), columns=range(nb_classes))\r\n",
        "plt.figure(figsize = (20,18))\r\n",
        "sn.heatmap(df_cm, linewidths=0, annot=False)"
      ],
      "execution_count": null,
      "outputs": [
        {
          "output_type": "execute_result",
          "data": {
            "text/plain": [
              "<matplotlib.axes._subplots.AxesSubplot at 0x7f56685b3cf8>"
            ]
          },
          "metadata": {
            "tags": []
          },
          "execution_count": 81
        },
        {
          "output_type": "display_data",
          "data": {
            "image/png": "[encoded data removed]",
            "text/plain": [
              "<Figure size 1440x1296 with 2 Axes>"
            ]
          },
          "metadata": {
            "tags": [],
            "needs_background": "light"
          }
        }
      ]
    },
    {
      "cell_type": "code",
      "metadata": {
        "id": "wxamB5b1fMx4"
      },
      "source": [
        "!rsync --progress drive/MyDrive/write_data/logger5-lstm.zip .\n",
        "!unzip logger5-lstm.zip -d logger5\n",
        "!mv logger5/checkpoints/* ."
      ],
      "execution_count": null,
      "outputs": []
    },
    {
      "cell_type": "code",
      "metadata": {
        "id": "6S9wMKUYuucb",
        "colab": {
          "base_uri": "https://localhost:8080/"
        },
        "outputId": "0415a6f6-2e41-42be-9c4b-ed5c51665b92"
      },
      "source": [
        "# DEMO SCRIPT - MAKING IT WORK ON EXTERNAL VIDEO \n",
        "\n",
        "from keras.models import load_model\n",
        "from data import DataSet\n",
        "import numpy as np\n",
        "\n",
        "saved_model = 'lstm-features.012-1.100.hdf5'\n",
        "image_shape = None\n",
        "data_type = 'features'\n",
        "seq_length = 40\n",
        "\n",
        "video_name = 'v_Archery_g04_c02'\n",
        "\n",
        "print('Getting model...')\n",
        "model = load_model(saved_model)\n",
        "print('Model loaded.')\n",
        "\n",
        "data = DataSet(seq_length=seq_length)\n",
        "feature_frames = data.get_frames_by_filename(video_name, data_type)\n",
        "prediction = model.predict(np.expand_dims(feature_frames, axis=0))\n",
        "data.print_class_from_prediction(np.squeeze(prediction, axis=0))"
      ],
      "execution_count": null,
      "outputs": [
        {
          "output_type": "stream",
          "text": [
            "Getting model...\n",
            "Model loaded.\n",
            "Archery: 0.99\n",
            "Swing: 0.00\n",
            "JumpingJack: 0.00\n",
            "TaiChi: 0.00\n",
            "HulaHoop: 0.00\n"
          ],
          "name": "stdout"
        }
      ]
    },
    {
      "cell_type": "code",
      "metadata": {
        "id": "syhjZAefoIC6",
        "colab": {
          "base_uri": "https://localhost:8080/"
        },
        "outputId": "712286a9-ce15-422f-fb44-9fb98dfcf5df"
      },
      "source": [
        "!ls drive/MyDrive/write_data/checkpoints"
      ],
      "execution_count": null,
      "outputs": [
        {
          "output_type": "stream",
          "text": [
            "lstm-features.001-1.780.hdf5  lstm-features.006-1.008.hdf5\n",
            "lstm-features.002-1.321.hdf5  lstm-features.007-1.006.hdf5\n",
            "lstm-features.003-1.147.hdf5  lstm-features.008-0.972.hdf5\n",
            "lstm-features.004-1.060.hdf5  lstm-features.009-0.965.hdf5\n",
            "lstm-features.005-1.012.hdf5  lstm-features.010-0.959.hdf5\n"
          ],
          "name": "stdout"
        }
      ]
    },
    {
      "cell_type": "code",
      "metadata": {
        "id": "8aVGBFWBk5WS",
        "colab": {
          "base_uri": "https://localhost:8080/"
        },
        "outputId": "b1c76a77-336d-4d7b-f8e5-5b083e876a16"
      },
      "source": [
        "from keras.models import load_model, Model\n",
        "from keras.preprocessing import image\n",
        "from keras.applications.inception_v3 import InceptionV3, preprocess_input\n",
        "from data import DataSet\n",
        "import numpy as np\n",
        "import os\n",
        "import cv2\n",
        "\n",
        "class newExtractor():\n",
        "  def __init__(self, weights=None):\n",
        "    self.weights = weights  \n",
        "    if weights is None:\n",
        "      base_model = InceptionV3(\n",
        "        weights='imagenet',\n",
        "        include_top=True\n",
        "      )\n",
        "      self.model = Model(\n",
        "        inputs=base_model.input,\n",
        "        outputs=base_model.get_layer('avg_pool').output\n",
        "      )\n",
        "\n",
        "    else:\n",
        "      # self.model = load_model(weights)\n",
        "      # self.model._layers.pop()\n",
        "      # self.model._layers.pop()  \n",
        "      # self.model.outputs = [self.model.layers[-1].output]\n",
        "      # self.model.output_layers = [self.model.layers[-1]]\n",
        "      # self.model._layers[-1].outbound_nodes = []\n",
        "      base_model = load_model(weights)\n",
        "      self.model = Model(\n",
        "          inputs=base_model.input,\n",
        "          outputs=base_model.get_layer('global_average_pooling2d').output\n",
        "      )\n",
        "\n",
        "  def extract(self, img):\n",
        "    x = np.expand_dims(img, axis=0)\n",
        "    x = preprocess_input(x)\n",
        "    features = self.model.predict(x)\n",
        "    features = features[0]\n",
        "    return features\n",
        "\n",
        "def rescale_list(input_list, size, two_way_rescale = False):\n",
        "  if len(input_list) >= size:\n",
        "    skip = len(input_list) // size\n",
        "    output = [input_list[i] for i in range(0, len(input_list), skip)]\n",
        "    return output[:size]\n",
        "  elif two_way_rescale == True:\n",
        "    # Build our new output.                \n",
        "    append_list = []\n",
        "    for i in range(size - len(input_list)):\n",
        "      append_list.append(input_list[random.randint(0,len(input_list)-1)])\n",
        "    # Merge two lists.        \n",
        "    output = append_list+input_list\n",
        "    return output\n",
        "\n",
        "print('Creating CNN feature extractor...')\n",
        "extractor = newExtractor(weights='inception.013-1.11.hdf5')\n",
        "print('Created extractor.')\n",
        "\n",
        "saved_model = 'lstm-features.012-1.100.hdf5'\n",
        "image_shape = None\n",
        "data_type = 'features'\n",
        "seq_length = 40\n",
        "\n",
        "# video_name = 'v_Archery_g04_c02'\n",
        "video_name = 'data/test/Archery/v_Archery_g06_c01.avi'\n",
        "\n",
        "print('Getting model...')\n",
        "model = load_model(saved_model)\n",
        "print('Model loaded.')  \n",
        "  \n",
        "# # check if the sequences exists\n",
        "# feature_frames = None\n",
        "# path = os.path.join('data/sequences/' + video_name + '-' + str(seq_length) + '-features.npy')\n",
        "# if os.path.isfile(path):\n",
        "#     print('load existing sequence...')\n",
        "#     feature_frames = np.load(path)\n",
        "# else:\n",
        "#     print('generating sequence...')\n",
        "#     videoCapture = cv2.VideoCapture(video_name)\n",
        "#     success, frame = videoCapture.read()\n",
        "#     sequence = []\n",
        "#     while success:\n",
        "#         frame = cv2.resize(frame, (299, 299))\n",
        "#         frame = image.img_to_array(frame)\n",
        "#         # extract features\n",
        "#         features = extractor.extract(frame)\n",
        "#         sequence.append(features)\n",
        "#         success, frame = videoCapture.read()\n",
        "#     # rescale our sequences\n",
        "#     sequence = rescale_list(sequence, seq_length)\n",
        "#     np.save(path, sequence)     \n",
        "#     feature_frames = sequence\n",
        "\n",
        "print('Generating feature sequence...')\n",
        "videoCapture = cv2.VideoCapture(video_name)\n",
        "success, frame = videoCapture.read()\n",
        "sequence = []\n",
        "while success:\n",
        "    frame = cv2.resize(frame, (299, 299))\n",
        "    frame = image.img_to_array(frame)\n",
        "    # extract features\n",
        "    features = extractor.extract(frame)\n",
        "    sequence.append(features)\n",
        "    success, frame = videoCapture.read()\n",
        "# rescale our sequences\n",
        "sequence = rescale_list(sequence, seq_length)\n",
        "# np.save(path, sequence)     \n",
        "feature_frames = sequence\n",
        "\n",
        "print('Predicting...')\n",
        "prediction = model.predict(np.expand_dims(feature_frames, axis=0))\n",
        "print('Prediction complete.\\n--------------')\n",
        "data.print_class_from_prediction(np.squeeze(prediction, axis=0))"
      ],
      "execution_count": null,
      "outputs": [
        {
          "output_type": "stream",
          "text": [
            "Creating CNN feature extractor...\n",
            "Created extractor.\n",
            "Getting model...\n",
            "Model loaded.\n",
            "generating sequence...\n",
            "Predicting...\n",
            "Prediction complete.\n",
            "--------------\n",
            "YoYo: 0.95\n",
            "PlayingDaf: 0.01\n",
            "Drumming: 0.00\n",
            "PizzaTossing: 0.00\n",
            "CliffDiving: 0.00\n"
          ],
          "name": "stdout"
        }
      ]
    },
    {
      "cell_type": "code",
      "metadata": {
        "colab": {
          "base_uri": "https://localhost:8080/",
          "height": 336
        },
        "id": "QfBNysqokBEq",
        "outputId": "7f736b93-1e4a-491a-be7a-b5b63983a2e8"
      },
      "source": [
        "# Testing CNN on random images\n",
        "\n",
        "from data import DataSet\n",
        "from processor import process_image\n",
        "import glob\n",
        "import random\n",
        "import time\n",
        "import operator\n",
        "import numpy as np\n",
        "import matplotlib.pyplot as plt\n",
        "\n",
        "data = DataSet()\n",
        "model = load_model('inception.013-1.11.hdf5')\n",
        "images = glob.glob(os.path.join('data', 'test', '**', '*.jpg'))\n",
        "\n",
        "sample_idx = random.randint(0, len(images) - 1)\n",
        "image = images[sample_idx]\n",
        "\n",
        "i_start_time = time.time()\n",
        "\n",
        "image_arr = process_image(image, (299, 299, 3))\n",
        "plt.imshow(image_arr)\n",
        "image_arr = np.expand_dims(image_arr, axis=0)\n",
        "\n",
        "p_start_time = time.time()\n",
        "\n",
        "predictions = model.predict(image_arr)\n",
        "\n",
        "end_time = time.time()\n",
        "\n",
        "labelled_preds = {}\n",
        "for i, class_name in enumerate(data.classes):\n",
        "  labelled_preds[class_name] = predictions[0][i]\n",
        "\n",
        "sorted_labelled_preds = sorted(labelled_preds.items(), key=operator.itemgetter(1), reverse=True)\n",
        "print(\"Pred class = %s \\nAcc = %.2f\" %  (sorted_labelled_preds[0][0], sorted_labelled_preds[0][1]))\n",
        "print(\"Prediction time = %.3f s\" % (end_time - p_start_time))\n",
        "print(\"Total time = %.3f s\" % (end_time - i_start_time))"
      ],
      "execution_count": null,
      "outputs": [
        {
          "output_type": "stream",
          "text": [
            "Pred class = JumpRope \n",
            "Acc = 0.68\n",
            "Prediction time = 0.057 s\n",
            "Total time = 0.075 s\n"
          ],
          "name": "stdout"
        },
        {
          "output_type": "display_data",
          "data": {
            "image/png": "[encoded data removed]",
            "text/plain": [
              "<Figure size 432x288 with 1 Axes>"
            ]
          },
          "metadata": {
            "tags": [],
            "needs_background": "light"
          }
        }
      ]
    },
    {
      "cell_type": "code",
      "metadata": {
        "colab": {
          "base_uri": "https://localhost:8080/"
        },
        "id": "Av5YL292wG8m",
        "outputId": "e7708007-95fc-454c-8e74-bcf06168de7a"
      },
      "source": [
        "!rsync --progress drive/MyDrive/write_data/saved_models/* ."
      ],
      "execution_count": 1,
      "outputs": [
        {
          "output_type": "stream",
          "text": [
            "inception.013-1.11.hdf5\n",
            "    170,769,992 100%   97.38MB/s    0:00:01 (xfr#1, to-chk=1/2)\n",
            "lstm-features.012-1.100.hdf5\n",
            "    415,999,288 100%   84.21MB/s    0:00:04 (xfr#2, to-chk=0/2)\n"
          ],
          "name": "stdout"
        }
      ]
    },
    {
      "cell_type": "code",
      "metadata": {
        "id": "pnm0xYFIhPl9"
      },
      "source": [
        "from keras.models import load_model, Model\r\n",
        "xmodel = load_model('inception.013-1.11.hdf5')"
      ],
      "execution_count": 3,
      "outputs": []
    },
    {
      "cell_type": "code",
      "metadata": {
        "colab": {
          "base_uri": "https://localhost:8080/"
        },
        "id": "mXvguGGTwdId",
        "outputId": "19f3ef8d-fff3-4b9a-daab-c43d65cfa933"
      },
      "source": [
        "xmodel.layers[-3:]"
      ],
      "execution_count": 20,
      "outputs": [
        {
          "output_type": "execute_result",
          "data": {
            "text/plain": [
              "[<tensorflow.python.keras.layers.pooling.GlobalAveragePooling2D at 0x7fd3307dd780>,\n",
              " <tensorflow.python.keras.layers.core.Dense at 0x7fd3307dd940>,\n",
              " <tensorflow.python.keras.layers.core.Dense at 0x7fd3307ddcc0>]"
            ]
          },
          "metadata": {
            "tags": []
          },
          "execution_count": 20
        }
      ]
    },
    {
      "cell_type": "code",
      "metadata": {
        "id": "NhkE6MGszA3-"
      },
      "source": [
        "newmodel = Model(inputs=xmodel.input, outputs=xmodel.layers[-3].output)"
      ],
      "execution_count": 31,
      "outputs": []
    },
    {
      "cell_type": "code",
      "metadata": {
        "colab": {
          "base_uri": "https://localhost:8080/"
        },
        "id": "mFdzINUl1Cox",
        "outputId": "46b489ff-af92-44b9-a176-4c137f5ccfb0"
      },
      "source": [
        "print(len(xmodel.layers))\r\n",
        "print(len(newmodel.layers))"
      ],
      "execution_count": 33,
      "outputs": [
        {
          "output_type": "stream",
          "text": [
            "314\n",
            "312\n"
          ],
          "name": "stdout"
        }
      ]
    },
    {
      "cell_type": "code",
      "metadata": {
        "colab": {
          "base_uri": "https://localhost:8080/"
        },
        "id": "k1aIsFP50pB4",
        "outputId": "d7c751ec-3851-41df-b644-9c61a793d155"
      },
      "source": [
        "xmodel.layers[-3].output"
      ],
      "execution_count": 29,
      "outputs": [
        {
          "output_type": "execute_result",
          "data": {
            "text/plain": [
              "<KerasTensor: shape=(None, 2048) dtype=float32 (created by layer 'global_average_pooling2d')>"
            ]
          },
          "metadata": {
            "tags": []
          },
          "execution_count": 29
        }
      ]
    },
    {
      "cell_type": "code",
      "metadata": {
        "id": "toTXQ3SMIB--"
      },
      "source": [
        "# function ConnectButton(){\n",
        "#     console.log(\"Connect pushed\"); \n",
        "#     document.querySelector(\"#top-toolbar > colab-connect-button\").shadowRoot.querySelector(\"#connect\").click() \n",
        "# }\n",
        "# setInterval(ConnectButton,60000);"
      ],
      "execution_count": null,
      "outputs": []
    }
  ]
}