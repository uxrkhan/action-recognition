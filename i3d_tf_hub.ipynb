{
  "nbformat": 4,
  "nbformat_minor": 0,
  "metadata": {
    "colab": {
      "name": "tensorflow_hub_i3d.ipynb",
      "provenance": [],
      "collapsed_sections": [],
      "mount_file_id": "18IkXZ_QeBz6DkdbQwQYgLE9e-I0TDgJH",
      "authorship_tag": "ABX9TyM6mC3GXfNBzVbx/pTR7rZV"
    },
    "kernelspec": {
      "name": "python3",
      "display_name": "Python 3"
    },
    "accelerator": "GPU"
  },
  "cells": [
    {
      "cell_type": "code",
      "metadata": {
        "colab": {
          "base_uri": "https://localhost:8080/",
          "height": 558
        },
        "id": "ZRncIwDMfJTd",
        "outputId": "d7f64fd4-25ef-4caa-e50a-51bbdf4c04e7"
      },
      "source": [
        "!pip install imageio\r\n",
        "!pip install opencv-python\r\n",
        "!pip install git+https://github.com/tensorflow/docs"
      ],
      "execution_count": 2,
      "outputs": [
        {
          "output_type": "stream",
          "text": [
            "Requirement already satisfied: imageio in /usr/local/lib/python3.6/dist-packages (2.4.1)\n",
            "Requirement already satisfied: numpy in /usr/local/lib/python3.6/dist-packages (from imageio) (1.19.5)\n",
            "Requirement already satisfied: pillow in /usr/local/lib/python3.6/dist-packages (from imageio) (7.0.0)\n",
            "Requirement already satisfied: opencv-python in /usr/local/lib/python3.6/dist-packages (4.1.2.30)\n",
            "Requirement already satisfied: numpy>=1.11.3 in /usr/local/lib/python3.6/dist-packages (from opencv-python) (1.19.5)\n",
            "Collecting git+https://github.com/tensorflow/docs\n",
            "  Cloning https://github.com/tensorflow/docs to /tmp/pip-req-build-52oul_45\n",
            "  Running command git clone -q https://github.com/tensorflow/docs /tmp/pip-req-build-52oul_45\n",
            "Requirement already satisfied: astor in /usr/local/lib/python3.6/dist-packages (from tensorflow-docs===0.0.0a8a2778e805509eb0ec0c2487732a9085db33900-) (0.8.1)\n",
            "Requirement already satisfied: absl-py in /usr/local/lib/python3.6/dist-packages (from tensorflow-docs===0.0.0a8a2778e805509eb0ec0c2487732a9085db33900-) (0.10.0)\n",
            "Collecting protobuf>=3.14\n",
            "\u001b[?25l  Downloading https://files.pythonhosted.org/packages/fe/fd/247ef25f5ec5f9acecfbc98ca3c6aaf66716cf52509aca9a93583d410493/protobuf-3.14.0-cp36-cp36m-manylinux1_x86_64.whl (1.0MB)\n",
            "\u001b[K     |████████████████████████████████| 1.0MB 12.5MB/s \n",
            "\u001b[?25hRequirement already satisfied: pyyaml in /usr/local/lib/python3.6/dist-packages (from tensorflow-docs===0.0.0a8a2778e805509eb0ec0c2487732a9085db33900-) (3.13)\n",
            "Requirement already satisfied: dataclasses in /usr/local/lib/python3.6/dist-packages (from tensorflow-docs===0.0.0a8a2778e805509eb0ec0c2487732a9085db33900-) (0.8)\n",
            "Requirement already satisfied: six in /usr/local/lib/python3.6/dist-packages (from absl-py->tensorflow-docs===0.0.0a8a2778e805509eb0ec0c2487732a9085db33900-) (1.15.0)\n",
            "Building wheels for collected packages: tensorflow-docs\n",
            "  Building wheel for tensorflow-docs (setup.py) ... \u001b[?25l\u001b[?25hdone\n",
            "  Created wheel for tensorflow-docs: filename=tensorflow_docs-0.0.0a8a2778e805509eb0ec0c2487732a9085db33900_-cp36-none-any.whl size=146834 sha256=2bba89bb50968e1a12f3d23c0007b564dcda47989f43231717176cfb7170b40b\n",
            "  Stored in directory: /tmp/pip-ephem-wheel-cache-z9v6vgbt/wheels/eb/1b/35/fce87697be00d2fc63e0b4b395b0d9c7e391a10e98d9a0d97f\n",
            "Successfully built tensorflow-docs\n",
            "Installing collected packages: protobuf, tensorflow-docs\n",
            "  Found existing installation: protobuf 3.12.4\n",
            "    Uninstalling protobuf-3.12.4:\n",
            "      Successfully uninstalled protobuf-3.12.4\n",
            "Successfully installed protobuf-3.14.0 tensorflow-docs-0.0.0a8a2778e805509eb0ec0c2487732a9085db33900-\n"
          ],
          "name": "stdout"
        },
        {
          "output_type": "display_data",
          "data": {
            "application/vnd.colab-display-data+json": {
              "pip_warning": {
                "packages": [
                  "google"
                ]
              }
            }
          },
          "metadata": {
            "tags": []
          }
        }
      ]
    },
    {
      "cell_type": "code",
      "metadata": {
        "id": "z6xFwS3qfT-d"
      },
      "source": [
        "from absl import logging\r\n",
        "\r\n",
        "import tensorflow as tf\r\n",
        "import tensorflow_hub as hub\r\n",
        "from tensorflow_docs.vis import embed\r\n",
        "\r\n",
        "import random\r\n",
        "import re\r\n",
        "import os\r\n",
        "import tempfile\r\n",
        "import numpy as np\r\n",
        "import ssl \r\n",
        "import cv2\r\n",
        "import imageio\r\n",
        "from IPython import display\r\n",
        "import requests\r\n",
        "from urllib3.exceptions import InsecureRequestWarning\r\n",
        "requests.packages.urllib3.disable_warnings(category=InsecureRequestWarning)\r\n",
        "\r\n",
        "logging.set_verbosity(logging.ERROR)\r\n",
        "_CACHE_DIR = tempfile.mkdtemp()"
      ],
      "execution_count": 4,
      "outputs": []
    },
    {
      "cell_type": "code",
      "metadata": {
        "colab": {
          "base_uri": "https://localhost:8080/"
        },
        "id": "w8vLaa5AgSl_",
        "outputId": "6dfdc46f-8a06-485e-ec83-86e6952cab3e"
      },
      "source": [
        "# get Kinetics 400 labels\r\n",
        "KINETICS_URL = \"https://raw.githubusercontent.com/deepmind/kinetics-i3d/master/data/label_map.txt\"\r\n",
        "labels = requests.get(KINETICS_URL).content.splitlines()\r\n",
        "labels = [x.decode(\"UTF-8\") for x in labels]\r\n",
        "print(\"Found %d labels.\" % len(labels))"
      ],
      "execution_count": 6,
      "outputs": [
        {
          "output_type": "stream",
          "text": [
            "Found 400 labels.\n"
          ],
          "name": "stdout"
        }
      ]
    },
    {
      "cell_type": "code",
      "metadata": {
        "colab": {
          "base_uri": "https://localhost:8080/"
        },
        "id": "wCQ0JlGKi7EF",
        "outputId": "8d66c188-c45a-40d0-a041-a1e5b4653a91"
      },
      "source": [
        "# get list of videos in UCF101 dataset\r\n",
        "UCF_ROOT = \"https://www.crcv.ucf.edu/THUMOS14/UCF101/UCF101/\"\r\n",
        "unverified_context = ssl._create_unverified_context()\r\n",
        "\r\n",
        "htmlpage = requests.get(UCF_ROOT, verify=False).content.decode(\"utf-8\")\r\n",
        "video_links_list = re.findall(\"(v_[\\w_]+\\.avi)\", htmlpage)\r\n",
        "ucf101_video_list = sorted(set(video_links_list))\r\n",
        "print(\"Found %d video names in UCF101 dataset.\" % len(ucf101_video_list))\r\n",
        "\r\n",
        "categories = {}\r\n",
        "for video_name in ucf101_video_list:\r\n",
        "  category = video_name[2:-12]\r\n",
        "  if category not in categories:\r\n",
        "    categories[category] = 1\r\n",
        "  else:\r\n",
        "    categories[category] += 1\r\n",
        "print(\"Found %d categories in UCF101 dataset.\" % len(categories))"
      ],
      "execution_count": 22,
      "outputs": [
        {
          "output_type": "stream",
          "text": [
            "Found 13320 video names in UCF101 dataset.\n",
            "Found 101 categories in UCF101 dataset.\n"
          ],
          "name": "stdout"
        }
      ]
    },
    {
      "cell_type": "code",
      "metadata": {
        "id": "1aS5sGwErlyj"
      },
      "source": [
        "for category, size in categories.items():\r\n",
        "  print(\"%-20s %4d videos\" % (category, size))"
      ],
      "execution_count": null,
      "outputs": []
    },
    {
      "cell_type": "code",
      "metadata": {
        "colab": {
          "base_uri": "https://localhost:8080/"
        },
        "id": "gpPjUKG8sYgz",
        "outputId": "d45dfbce-6523-42ff-807e-c097a559532c"
      },
      "source": [
        "# download video\r\n",
        "video_name = \"v_Biking_g01_c01.avi\"\r\n",
        "video_path = os.path.join(_CACHE_DIR, video_name)\r\n",
        "if not os.path.exists(video_path):\r\n",
        "  video_link_url = UCF_ROOT + '/' + video_name\r\n",
        "  binary_data = requests.get(video_link_url, verify=False).content\r\n",
        "  open(video_path, \"wb\").write(binary_data)\r\n",
        "\r\n",
        "# load video frames\r\n",
        "target_size = (224, 224)\r\n",
        "frames = []\r\n",
        "cap = cv2.VideoCapture(video_path)\r\n",
        "try:\r\n",
        "  while True:\r\n",
        "    ret, frame = cap.read()\r\n",
        "    if not ret:\r\n",
        "      break\r\n",
        "    # crop center square\r\n",
        "    h, w, _ = frame.shape\r\n",
        "    square_size = min(h, w)\r\n",
        "    x = (w // 2) - (square_size // 2)\r\n",
        "    y = (h // 2) - (square_size // 2)\r\n",
        "    frame = frame[y:y+square_size, x:x+square_size]\r\n",
        "    frame = cv2.resize(frame, target_size)\r\n",
        "    # convert BGR to RBG\r\n",
        "    frame = frame[:, :, [2, 1, 0]]\r\n",
        "    frames.append(frame)\r\n",
        "finally:\r\n",
        "  cap.release()\r\n",
        "sample_video_frames = np.array(frames) / 255.0\r\n",
        "\r\n",
        "print(\"Sample video shape: %s\" % str(sample_video_frames.shape))"
      ],
      "execution_count": 34,
      "outputs": [
        {
          "output_type": "stream",
          "text": [
            "Sample video shape: (151, 224, 224, 3)\n"
          ],
          "name": "stdout"
        }
      ]
    },
    {
      "cell_type": "code",
      "metadata": {
        "id": "NvePAY0K2edg"
      },
      "source": [
        "# load model from tf hub\r\n",
        "\r\n",
        "i3d = hub.load(\"https://tfhub.dev/deepmind/i3d-kinetics-400/1\").signatures['default']"
      ],
      "execution_count": 35,
      "outputs": []
    },
    {
      "cell_type": "code",
      "metadata": {
        "id": "LMq4TK2l2xYu"
      },
      "source": [
        "# predict\r\n",
        "\r\n",
        "# create input tensor\r\n",
        "model_input = tf.constant(sample_video_frames, dtype=tf.float32)[tf.newaxis, ...]\r\n",
        "logits = i3d(model_input)['default'][0]\r\n",
        "\r\n",
        "# get classification predictions through softmax layer\r\n",
        "probabilities = tf.nn.softmax(logits)\r\n",
        "\r\n",
        "print(\"Top-5 Predictions:\")\r\n",
        "for i in np.argsort(probabilities)[::-1][:5]:\r\n",
        "  print(f\"    {labels[i]:22}: {probabilities[i]*100:5.2f}%\")"
      ],
      "execution_count": 52,
      "outputs": []
    },
    {
      "cell_type": "code",
      "metadata": {
        "id": "y4Xx5LMZ3cNZ"
      },
      "source": [
        "converted_images = np.clip(sample_video_frames * 255, 0, 255).astype(np.uint8)\r\n",
        "imageio.mimsave('./animation.gif', converted_images, fps=35)\r\n",
        "embed.embed_file('./animation.gif')"
      ],
      "execution_count": null,
      "outputs": []
    },
    {
      "cell_type": "code",
      "metadata": {
        "id": "RrKIIQp4_VNH"
      },
      "source": [
        "# !curl -O https://upload.wikimedia.org/wikipedia/commons/8/86/End_of_a_jam.ogv\r\n",
        "# video_path = \"End_of_a_jam.ogv\""
      ],
      "execution_count": null,
      "outputs": []
    }
  ]
}